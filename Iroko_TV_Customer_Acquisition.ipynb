{
  "nbformat": 4,
  "nbformat_minor": 0,
  "metadata": {
    "colab": {
      "name": "Iroko TV Customer Acquisition.ipynb",
      "provenance": [],
      "collapsed_sections": [],
      "authorship_tag": "ABX9TyOMtgYjbDiptViRvkyi0v60",
      "include_colab_link": true
    },
    "kernelspec": {
      "name": "ir",
      "display_name": "R"
    },
    "language_info": {
      "name": "R"
    }
  },
  "cells": [
    {
      "cell_type": "markdown",
      "metadata": {
        "id": "view-in-github",
        "colab_type": "text"
      },
      "source": [
        "<a href=\"https://colab.research.google.com/github/akinzayn/BCIS-561/blob/main/Iroko_TV_Customer_Acquisition.ipynb\" target=\"_parent\"><img src=\"https://colab.research.google.com/assets/colab-badge.svg\" alt=\"Open In Colab\"/></a>"
      ]
    },
    {
      "cell_type": "code",
      "execution_count": null,
      "metadata": {
        "colab": {
          "base_uri": "https://localhost:8080/"
        },
        "id": "Sm1BVag64m4p",
        "outputId": "3378420b-f019-4143-82fd-395bcf3b9196"
      },
      "outputs": [
        {
          "output_type": "stream",
          "name": "stderr",
          "text": [
            "Installing package into ‘/usr/local/lib/R/site-library’\n",
            "(as ‘lib’ is unspecified)\n",
            "\n"
          ]
        }
      ],
      "source": [
        "install.packages(\"pacman\") #installing the pacman package that helps us install other packages\n",
        "library(pacman) #loading pacman"
      ]
    },
    {
      "cell_type": "code",
      "source": [
        "p_load(tidyverse, googledrive,readxl,writexl, rstatix) #install and load the packages. Tidyverse(is used for data wrangling) and googledrive(because the files are saved on google drive)"
      ],
      "metadata": {
        "id": "tEFnA7nW-enP",
        "colab": {
          "base_uri": "https://localhost:8080/"
        },
        "outputId": "fef4dfbc-3662-4e20-ffaf-b39321bd8ad7"
      },
      "execution_count": null,
      "outputs": [
        {
          "output_type": "stream",
          "name": "stderr",
          "text": [
            "Installing package into ‘/usr/local/lib/R/site-library’\n",
            "(as ‘lib’ is unspecified)\n",
            "\n",
            "\n",
            "writexl installed\n",
            "\n",
            "Installing package into ‘/usr/local/lib/R/site-library’\n",
            "(as ‘lib’ is unspecified)\n",
            "\n",
            "also installing the dependencies ‘listenv’, ‘parallelly’, ‘future’, ‘globals’, ‘future.apply’, ‘progressr’, ‘SQUAREM’, ‘lava’, ‘prodlim’, ‘proxy’, ‘iterators’, ‘gower’, ‘ipred’, ‘timeDate’, ‘e1071’, ‘foreach’, ‘ModelMetrics’, ‘plyr’, ‘pROC’, ‘recipes’, ‘reshape2’, ‘matrixStats’, ‘caret’, ‘RcppArmadillo’, ‘numDeriv’, ‘SparseM’, ‘MatrixModels’, ‘conquer’, ‘sp’, ‘minqa’, ‘nloptr’, ‘RcppEigen’, ‘carData’, ‘abind’, ‘pbkrtest’, ‘quantreg’, ‘maptools’, ‘lme4’, ‘corrplot’, ‘car’\n",
            "\n",
            "\n",
            "\n",
            "rstatix installed\n",
            "\n"
          ]
        }
      ]
    },
    {
      "cell_type": "code",
      "source": [
        "drive_deauth() #remove authorization permission from the google drive \n",
        "file_details = drive_get(as_id(c(\"1R10HMbT3MhpUZM0sFEKuHHoaCAkpoO7tUWN8hAD75rc\",\"1nMlw4W2DbDQJEnuVZXqtmIm0krueU0gp6Qvwde2NbG4\"))) #get the link associated to the file on google doc\n",
        "for(i in 1:2){\n",
        "drive_download(file_details[i,], overwrite = TRUE) #download the details of the file from google drive, the space after the i indicates that we don't care about the column position\n",
        "}\n"
      ],
      "metadata": {
        "colab": {
          "base_uri": "https://localhost:8080/"
        },
        "id": "rUMaTWUy-9Hf",
        "outputId": "4effacc4-1cbd-4325-a5c3-52480cc4e4db"
      },
      "execution_count": null,
      "outputs": [
        {
          "output_type": "stream",
          "name": "stderr",
          "text": [
            "File downloaded:\n",
            "\n",
            "• \u001b[36msubscriptions\u001b[39m \u001b[90m<id: 1R10HMbT3MhpUZM0sFEKuHHoaCAkpoO7tUWN8hAD75rc>\u001b[39m\n",
            "\n",
            "Saved locally as:\n",
            "\n",
            "• \u001b[34msubscriptions.xlsx\u001b[39m\n",
            "\n",
            "File downloaded:\n",
            "\n",
            "• \u001b[36mvisits\u001b[39m \u001b[90m<id: 1nMlw4W2DbDQJEnuVZXqtmIm0krueU0gp6Qvwde2NbG4>\u001b[39m\n",
            "\n",
            "Saved locally as:\n",
            "\n",
            "• \u001b[34mvisits.xlsx\u001b[39m\n",
            "\n"
          ]
        }
      ]
    },
    {
      "cell_type": "code",
      "source": [
        "rm(list = ls())"
      ],
      "metadata": {
        "id": "TryInY0gd4yY"
      },
      "execution_count": null,
      "outputs": []
    },
    {
      "cell_type": "code",
      "source": [
        "# setting figure size\n",
        "\n",
        "fig <- function(width = 6, heigth = 6){\n",
        "     options(repr.plot.width = width, repr.plot.height = heigth)\n",
        "}\n",
        "fig(width = 12, heigth = 6.75)"
      ],
      "metadata": {
        "id": "NOl6EafZXhlw"
      },
      "execution_count": null,
      "outputs": []
    },
    {
      "cell_type": "code",
      "source": [
        "subscriptions_df = read_excel(\"subscriptions.xlsx\") #read_excel is used to read the subscription.xlsx data . \n",
        "visits_df = read_excel(\"visits.xlsx\") # read the visit.xlsx "
      ],
      "metadata": {
        "id": "Q5S8W0UEZ0u5"
      },
      "execution_count": null,
      "outputs": []
    },
    {
      "cell_type": "code",
      "source": [
        "#head(subscriptions_df, 1) #check what the data looks like. The 1 is to show the first row only\n",
        "#head(visits_df, 1)\n",
        "dim(subscriptions_df)\n",
        "dim(visits_df)\n",
        "dim(data_df)"
      ],
      "metadata": {
        "colab": {
          "base_uri": "https://localhost:8080/",
          "height": 69
        },
        "id": "d7_mWKXbaq0A",
        "outputId": "fbfcdcc3-7b85-481c-e7eb-872104261c01"
      },
      "execution_count": null,
      "outputs": [
        {
          "output_type": "display_data",
          "data": {
            "text/plain": [
              "[1] 13612     7"
            ],
            "text/latex": "\\begin{enumerate*}\n\\item 13612\n\\item 7\n\\end{enumerate*}\n",
            "text/markdown": "1. 13612\n2. 7\n\n\n",
            "text/html": [
              "<style>\n",
              ".list-inline {list-style: none; margin:0; padding: 0}\n",
              ".list-inline>li {display: inline-block}\n",
              ".list-inline>li:not(:last-child)::after {content: \"\\00b7\"; padding: 0 .5ex}\n",
              "</style>\n",
              "<ol class=list-inline><li>13612</li><li>7</li></ol>\n"
            ]
          },
          "metadata": {}
        },
        {
          "output_type": "display_data",
          "data": {
            "text/plain": [
              "[1] 47704     7"
            ],
            "text/latex": "\\begin{enumerate*}\n\\item 47704\n\\item 7\n\\end{enumerate*}\n",
            "text/markdown": "1. 47704\n2. 7\n\n\n",
            "text/html": [
              "<style>\n",
              ".list-inline {list-style: none; margin:0; padding: 0}\n",
              ".list-inline>li {display: inline-block}\n",
              ".list-inline>li:not(:last-child)::after {content: \"\\00b7\"; padding: 0 .5ex}\n",
              "</style>\n",
              "<ol class=list-inline><li>47704</li><li>7</li></ol>\n"
            ]
          },
          "metadata": {}
        },
        {
          "output_type": "display_data",
          "data": {
            "text/plain": [
              "[1] 13612    13"
            ],
            "text/latex": "\\begin{enumerate*}\n\\item 13612\n\\item 13\n\\end{enumerate*}\n",
            "text/markdown": "1. 13612\n2. 13\n\n\n",
            "text/html": [
              "<style>\n",
              ".list-inline {list-style: none; margin:0; padding: 0}\n",
              ".list-inline>li {display: inline-block}\n",
              ".list-inline>li:not(:last-child)::after {content: \"\\00b7\"; padding: 0 .5ex}\n",
              "</style>\n",
              "<ol class=list-inline><li>13612</li><li>13</li></ol>\n"
            ]
          },
          "metadata": {}
        }
      ]
    },
    {
      "cell_type": "code",
      "source": [
        "head(visits_df,1)"
      ],
      "metadata": {
        "colab": {
          "base_uri": "https://localhost:8080/",
          "height": 129
        },
        "id": "_WPyNCZGBgcl",
        "outputId": "bd4c42b7-48ad-439b-b240-9239cb08ee42"
      },
      "execution_count": null,
      "outputs": [
        {
          "output_type": "display_data",
          "data": {
            "text/plain": [
              "  visit_id                             account_id                          \n",
              "1 4b987205-5da4-403c-b7d4-b952db264794 914fddea-7a72-4712-82dd-5b4590f9b670\n",
              "  day        region    language channel landing_page\n",
              "1 2019-01-01 US/Canada English  video   A           "
            ],
            "text/latex": "A tibble: 1 × 7\n\\begin{tabular}{lllllll}\n visit\\_id & account\\_id & day & region & language & channel & landing\\_page\\\\\n <chr> & <chr> & <dttm> & <chr> & <chr> & <chr> & <chr>\\\\\n\\hline\n\t 4b987205-5da4-403c-b7d4-b952db264794 & 914fddea-7a72-4712-82dd-5b4590f9b670 & 2019-01-01 & US/Canada & English & video & A\\\\\n\\end{tabular}\n",
            "text/markdown": "\nA tibble: 1 × 7\n\n| visit_id &lt;chr&gt; | account_id &lt;chr&gt; | day &lt;dttm&gt; | region &lt;chr&gt; | language &lt;chr&gt; | channel &lt;chr&gt; | landing_page &lt;chr&gt; |\n|---|---|---|---|---|---|---|\n| 4b987205-5da4-403c-b7d4-b952db264794 | 914fddea-7a72-4712-82dd-5b4590f9b670 | 2019-01-01 | US/Canada | English | video | A |\n\n",
            "text/html": [
              "<table class=\"dataframe\">\n",
              "<caption>A tibble: 1 × 7</caption>\n",
              "<thead>\n",
              "\t<tr><th scope=col>visit_id</th><th scope=col>account_id</th><th scope=col>day</th><th scope=col>region</th><th scope=col>language</th><th scope=col>channel</th><th scope=col>landing_page</th></tr>\n",
              "\t<tr><th scope=col>&lt;chr&gt;</th><th scope=col>&lt;chr&gt;</th><th scope=col>&lt;dttm&gt;</th><th scope=col>&lt;chr&gt;</th><th scope=col>&lt;chr&gt;</th><th scope=col>&lt;chr&gt;</th><th scope=col>&lt;chr&gt;</th></tr>\n",
              "</thead>\n",
              "<tbody>\n",
              "\t<tr><td>4b987205-5da4-403c-b7d4-b952db264794</td><td>914fddea-7a72-4712-82dd-5b4590f9b670</td><td>2019-01-01</td><td>US/Canada</td><td>English</td><td>video</td><td>A</td></tr>\n",
              "</tbody>\n",
              "</table>\n"
            ]
          },
          "metadata": {}
        }
      ]
    },
    {
      "cell_type": "code",
      "source": [
        "data_df =  subscriptions_df %>% left_join( visits_df) #join the two dataframes. Acount_ID is common to both. \n",
        "data_df %>% head(6) #the last two rows in the data frame\n",
        "dim(data_df)# dimension of the data frame"
      ],
      "metadata": {
        "colab": {
          "base_uri": "https://localhost:8080/",
          "height": 671
        },
        "id": "4ZCt8rQczYVJ",
        "outputId": "3d13534a-c4f0-4b9b-c7ac-daa81595eb4b"
      },
      "execution_count": null,
      "outputs": [
        {
          "output_type": "stream",
          "name": "stderr",
          "text": [
            "Joining, by = \"account_id\"\n",
            "\n"
          ]
        },
        {
          "output_type": "display_data",
          "data": {
            "text/plain": [
              "  subscription_id                      account_id                          \n",
              "1 96d87f27-c4e3-401e-9efd-795834b12e1b 914fddea-7a72-4712-82dd-5b4590f9b670\n",
              "2 91838d2f-5cc1-448c-95d2-05dce13f0090 7e6ccf6b-16e1-4ea1-9057-ead81ac1cedd\n",
              "3 7cb08fd7-9440-4a17-9cbd-674954d9b1c5 f7b65b83-2e33-4926-b36a-f37fead86623\n",
              "4 ab2b038d-e56c-4102-8662-dedbff889235 f9b33d91-66d1-485c-8c6e-d27bdb46d605\n",
              "5 183c7790-06fb-40f8-acf4-f3c78db265fd c5124861-4163-409d-a419-c87681537371\n",
              "6 0adab5fa-ec35-4e1e-9da5-70bd45d684f6 c0463e2b-ca34-4f2c-b50f-a418df8923de\n",
              "  subscription_start_date subscription_end_date trial_start_date trial_end_date\n",
              "1 2019-01-08              2020-01-08            2019-01-01       2019-01-08    \n",
              "2 2019-01-01              2020-01-01            <NA>             <NA>          \n",
              "3 2019-01-01              2020-01-01            <NA>             <NA>          \n",
              "4 2019-01-08              2020-01-08            2019-01-01       2019-01-08    \n",
              "5 2019-01-02              2020-01-02            <NA>             <NA>          \n",
              "6 <NA>                    <NA>                  2019-01-02       2019-01-09    \n",
              "  revenue visit_id                             day        region    language\n",
              "1 1016.28 4b987205-5da4-403c-b7d4-b952db264794 2019-01-01 US/Canada English \n",
              "2  755.67 93d005cd-2990-4432-ae98-bd11c9c28f63 2019-01-01 US/Canada English \n",
              "3  999.89 d2bd6d7a-0f61-4323-8bbc-1e934a7368fd 2019-01-01 US/Canada English \n",
              "4  971.82 83674a56-2bc3-47ed-95ee-598ee782d333 2019-01-01 US/Canada English \n",
              "5 1280.93 a6cb6fcf-50e9-4513-bad9-131172cfe9ca 2019-01-02 US/Canada English \n",
              "6      NA 93d4347a-a0cf-4b2e-a32c-d384669da376 2019-01-02 US/Canada English \n",
              "  channel        landing_page\n",
              "1 video          A           \n",
              "2 organic search G           \n",
              "3 organic search H           \n",
              "4 paid search    E           \n",
              "5 display        G           \n",
              "6 paid search    A           "
            ],
            "text/latex": "A tibble: 6 × 13\n\\begin{tabular}{lllllllllllll}\n subscription\\_id & account\\_id & subscription\\_start\\_date & subscription\\_end\\_date & trial\\_start\\_date & trial\\_end\\_date & revenue & visit\\_id & day & region & language & channel & landing\\_page\\\\\n <chr> & <chr> & <dttm> & <dttm> & <dttm> & <dttm> & <dbl> & <chr> & <dttm> & <chr> & <chr> & <chr> & <chr>\\\\\n\\hline\n\t 96d87f27-c4e3-401e-9efd-795834b12e1b & 914fddea-7a72-4712-82dd-5b4590f9b670 & 2019-01-08 & 2020-01-08 & 2019-01-01 & 2019-01-08 & 1016.28 & 4b987205-5da4-403c-b7d4-b952db264794 & 2019-01-01 & US/Canada & English & video          & A\\\\\n\t 91838d2f-5cc1-448c-95d2-05dce13f0090 & 7e6ccf6b-16e1-4ea1-9057-ead81ac1cedd & 2019-01-01 & 2020-01-01 & NA & NA &  755.67 & 93d005cd-2990-4432-ae98-bd11c9c28f63 & 2019-01-01 & US/Canada & English & organic search & G\\\\\n\t 7cb08fd7-9440-4a17-9cbd-674954d9b1c5 & f7b65b83-2e33-4926-b36a-f37fead86623 & 2019-01-01 & 2020-01-01 & NA & NA &  999.89 & d2bd6d7a-0f61-4323-8bbc-1e934a7368fd & 2019-01-01 & US/Canada & English & organic search & H\\\\\n\t ab2b038d-e56c-4102-8662-dedbff889235 & f9b33d91-66d1-485c-8c6e-d27bdb46d605 & 2019-01-08 & 2020-01-08 & 2019-01-01 & 2019-01-08 &  971.82 & 83674a56-2bc3-47ed-95ee-598ee782d333 & 2019-01-01 & US/Canada & English & paid search    & E\\\\\n\t 183c7790-06fb-40f8-acf4-f3c78db265fd & c5124861-4163-409d-a419-c87681537371 & 2019-01-02 & 2020-01-02 & NA & NA & 1280.93 & a6cb6fcf-50e9-4513-bad9-131172cfe9ca & 2019-01-02 & US/Canada & English & display        & G\\\\\n\t 0adab5fa-ec35-4e1e-9da5-70bd45d684f6 & c0463e2b-ca34-4f2c-b50f-a418df8923de & NA & NA & 2019-01-02 & 2019-01-09 &      NA & 93d4347a-a0cf-4b2e-a32c-d384669da376 & 2019-01-02 & US/Canada & English & paid search    & A\\\\\n\\end{tabular}\n",
            "text/markdown": "\nA tibble: 6 × 13\n\n| subscription_id &lt;chr&gt; | account_id &lt;chr&gt; | subscription_start_date &lt;dttm&gt; | subscription_end_date &lt;dttm&gt; | trial_start_date &lt;dttm&gt; | trial_end_date &lt;dttm&gt; | revenue &lt;dbl&gt; | visit_id &lt;chr&gt; | day &lt;dttm&gt; | region &lt;chr&gt; | language &lt;chr&gt; | channel &lt;chr&gt; | landing_page &lt;chr&gt; |\n|---|---|---|---|---|---|---|---|---|---|---|---|---|\n| 96d87f27-c4e3-401e-9efd-795834b12e1b | 914fddea-7a72-4712-82dd-5b4590f9b670 | 2019-01-08 | 2020-01-08 | 2019-01-01 | 2019-01-08 | 1016.28 | 4b987205-5da4-403c-b7d4-b952db264794 | 2019-01-01 | US/Canada | English | video          | A |\n| 91838d2f-5cc1-448c-95d2-05dce13f0090 | 7e6ccf6b-16e1-4ea1-9057-ead81ac1cedd | 2019-01-01 | 2020-01-01 | NA | NA |  755.67 | 93d005cd-2990-4432-ae98-bd11c9c28f63 | 2019-01-01 | US/Canada | English | organic search | G |\n| 7cb08fd7-9440-4a17-9cbd-674954d9b1c5 | f7b65b83-2e33-4926-b36a-f37fead86623 | 2019-01-01 | 2020-01-01 | NA | NA |  999.89 | d2bd6d7a-0f61-4323-8bbc-1e934a7368fd | 2019-01-01 | US/Canada | English | organic search | H |\n| ab2b038d-e56c-4102-8662-dedbff889235 | f9b33d91-66d1-485c-8c6e-d27bdb46d605 | 2019-01-08 | 2020-01-08 | 2019-01-01 | 2019-01-08 |  971.82 | 83674a56-2bc3-47ed-95ee-598ee782d333 | 2019-01-01 | US/Canada | English | paid search    | E |\n| 183c7790-06fb-40f8-acf4-f3c78db265fd | c5124861-4163-409d-a419-c87681537371 | 2019-01-02 | 2020-01-02 | NA | NA | 1280.93 | a6cb6fcf-50e9-4513-bad9-131172cfe9ca | 2019-01-02 | US/Canada | English | display        | G |\n| 0adab5fa-ec35-4e1e-9da5-70bd45d684f6 | c0463e2b-ca34-4f2c-b50f-a418df8923de | NA | NA | 2019-01-02 | 2019-01-09 |      NA | 93d4347a-a0cf-4b2e-a32c-d384669da376 | 2019-01-02 | US/Canada | English | paid search    | A |\n\n",
            "text/html": [
              "<table class=\"dataframe\">\n",
              "<caption>A tibble: 6 × 13</caption>\n",
              "<thead>\n",
              "\t<tr><th scope=col>subscription_id</th><th scope=col>account_id</th><th scope=col>subscription_start_date</th><th scope=col>subscription_end_date</th><th scope=col>trial_start_date</th><th scope=col>trial_end_date</th><th scope=col>revenue</th><th scope=col>visit_id</th><th scope=col>day</th><th scope=col>region</th><th scope=col>language</th><th scope=col>channel</th><th scope=col>landing_page</th></tr>\n",
              "\t<tr><th scope=col>&lt;chr&gt;</th><th scope=col>&lt;chr&gt;</th><th scope=col>&lt;dttm&gt;</th><th scope=col>&lt;dttm&gt;</th><th scope=col>&lt;dttm&gt;</th><th scope=col>&lt;dttm&gt;</th><th scope=col>&lt;dbl&gt;</th><th scope=col>&lt;chr&gt;</th><th scope=col>&lt;dttm&gt;</th><th scope=col>&lt;chr&gt;</th><th scope=col>&lt;chr&gt;</th><th scope=col>&lt;chr&gt;</th><th scope=col>&lt;chr&gt;</th></tr>\n",
              "</thead>\n",
              "<tbody>\n",
              "\t<tr><td>96d87f27-c4e3-401e-9efd-795834b12e1b</td><td>914fddea-7a72-4712-82dd-5b4590f9b670</td><td>2019-01-08</td><td>2020-01-08</td><td>2019-01-01</td><td>2019-01-08</td><td>1016.28</td><td>4b987205-5da4-403c-b7d4-b952db264794</td><td>2019-01-01</td><td>US/Canada</td><td>English</td><td>video         </td><td>A</td></tr>\n",
              "\t<tr><td>91838d2f-5cc1-448c-95d2-05dce13f0090</td><td>7e6ccf6b-16e1-4ea1-9057-ead81ac1cedd</td><td>2019-01-01</td><td>2020-01-01</td><td>NA</td><td>NA</td><td> 755.67</td><td>93d005cd-2990-4432-ae98-bd11c9c28f63</td><td>2019-01-01</td><td>US/Canada</td><td>English</td><td>organic search</td><td>G</td></tr>\n",
              "\t<tr><td>7cb08fd7-9440-4a17-9cbd-674954d9b1c5</td><td>f7b65b83-2e33-4926-b36a-f37fead86623</td><td>2019-01-01</td><td>2020-01-01</td><td>NA</td><td>NA</td><td> 999.89</td><td>d2bd6d7a-0f61-4323-8bbc-1e934a7368fd</td><td>2019-01-01</td><td>US/Canada</td><td>English</td><td>organic search</td><td>H</td></tr>\n",
              "\t<tr><td>ab2b038d-e56c-4102-8662-dedbff889235</td><td>f9b33d91-66d1-485c-8c6e-d27bdb46d605</td><td>2019-01-08</td><td>2020-01-08</td><td>2019-01-01</td><td>2019-01-08</td><td> 971.82</td><td>83674a56-2bc3-47ed-95ee-598ee782d333</td><td>2019-01-01</td><td>US/Canada</td><td>English</td><td>paid search   </td><td>E</td></tr>\n",
              "\t<tr><td>183c7790-06fb-40f8-acf4-f3c78db265fd</td><td>c5124861-4163-409d-a419-c87681537371</td><td>2019-01-02</td><td>2020-01-02</td><td>NA</td><td>NA</td><td>1280.93</td><td>a6cb6fcf-50e9-4513-bad9-131172cfe9ca</td><td>2019-01-02</td><td>US/Canada</td><td>English</td><td>display       </td><td>G</td></tr>\n",
              "\t<tr><td>0adab5fa-ec35-4e1e-9da5-70bd45d684f6</td><td>c0463e2b-ca34-4f2c-b50f-a418df8923de</td><td>NA</td><td>NA</td><td>2019-01-02</td><td>2019-01-09</td><td>     NA</td><td>93d4347a-a0cf-4b2e-a32c-d384669da376</td><td>2019-01-02</td><td>US/Canada</td><td>English</td><td>paid search   </td><td>A</td></tr>\n",
              "</tbody>\n",
              "</table>\n"
            ]
          },
          "metadata": {}
        },
        {
          "output_type": "display_data",
          "data": {
            "text/plain": [
              "[1] 13612    13"
            ],
            "text/latex": "\\begin{enumerate*}\n\\item 13612\n\\item 13\n\\end{enumerate*}\n",
            "text/markdown": "1. 13612\n2. 13\n\n\n",
            "text/html": [
              "<style>\n",
              ".list-inline {list-style: none; margin:0; padding: 0}\n",
              ".list-inline>li {display: inline-block}\n",
              ".list-inline>li:not(:last-child)::after {content: \"\\00b7\"; padding: 0 .5ex}\n",
              "</style>\n",
              "<ol class=list-inline><li>13612</li><li>13</li></ol>\n"
            ]
          },
          "metadata": {}
        }
      ]
    },
    {
      "cell_type": "code",
      "source": [
        "length(unique(data_df$day))"
      ],
      "metadata": {
        "colab": {
          "base_uri": "https://localhost:8080/",
          "height": 34
        },
        "id": "xvAw-Hrq8gL9",
        "outputId": "a5fc568d-1c7a-4c24-ad6d-87730ff4b53b"
      },
      "execution_count": null,
      "outputs": [
        {
          "output_type": "display_data",
          "data": {
            "text/plain": [
              "[1] 731"
            ],
            "text/latex": "731",
            "text/markdown": "731",
            "text/html": [
              "731"
            ]
          },
          "metadata": {}
        }
      ]
    },
    {
      "cell_type": "markdown",
      "source": [
        "**Q 1: How much revenue did each region generate within the time frame covered by\n",
        "the data sets?**"
      ],
      "metadata": {
        "id": "0CQU___UjVe7"
      }
    },
    {
      "cell_type": "code",
      "source": [
        "group_rev = data_df %>% group_by(region) %>% #pass the arguement region to the function group_by in the dataframe, then assign it to group_rev\n",
        "            summarise(revenue = sum(revenue,na.rm = TRUE)) #add the sum of rev and remove missing values\n",
        "group_rev %>% arrange(desc(revenue))"
      ],
      "metadata": {
        "colab": {
          "base_uri": "https://localhost:8080/",
          "height": 255
        },
        "id": "cd7AwEHsHq8m",
        "outputId": "c6c96214-e966-48f8-b9a9-7297edd9224c"
      },
      "execution_count": null,
      "outputs": [
        {
          "output_type": "display_data",
          "data": {
            "text/plain": [
              "  region                                      revenue\n",
              "1 Latin America                               2373439\n",
              "2 Asia                                        1974550\n",
              "3 US/Canada                                   1583260\n",
              "4 Europe, Middle East, & Africa (Non-English) 1317910\n",
              "5 Other English-Speaking Countries            1135564"
            ],
            "text/latex": "A tibble: 5 × 2\n\\begin{tabular}{ll}\n region & revenue\\\\\n <chr> & <dbl>\\\\\n\\hline\n\t Latin America                               & 2373439\\\\\n\t Asia                                        & 1974550\\\\\n\t US/Canada                                   & 1583260\\\\\n\t Europe, Middle East, \\& Africa (Non-English) & 1317910\\\\\n\t Other English-Speaking Countries            & 1135564\\\\\n\\end{tabular}\n",
            "text/markdown": "\nA tibble: 5 × 2\n\n| region &lt;chr&gt; | revenue &lt;dbl&gt; |\n|---|---|\n| Latin America                               | 2373439 |\n| Asia                                        | 1974550 |\n| US/Canada                                   | 1583260 |\n| Europe, Middle East, &amp; Africa (Non-English) | 1317910 |\n| Other English-Speaking Countries            | 1135564 |\n\n",
            "text/html": [
              "<table class=\"dataframe\">\n",
              "<caption>A tibble: 5 × 2</caption>\n",
              "<thead>\n",
              "\t<tr><th scope=col>region</th><th scope=col>revenue</th></tr>\n",
              "\t<tr><th scope=col>&lt;chr&gt;</th><th scope=col>&lt;dbl&gt;</th></tr>\n",
              "</thead>\n",
              "<tbody>\n",
              "\t<tr><td>Latin America                              </td><td>2373439</td></tr>\n",
              "\t<tr><td>Asia                                       </td><td>1974550</td></tr>\n",
              "\t<tr><td>US/Canada                                  </td><td>1583260</td></tr>\n",
              "\t<tr><td>Europe, Middle East, &amp; Africa (Non-English)</td><td>1317910</td></tr>\n",
              "\t<tr><td>Other English-Speaking Countries           </td><td>1135564</td></tr>\n",
              "</tbody>\n",
              "</table>\n"
            ]
          },
          "metadata": {}
        }
      ]
    },
    {
      "cell_type": "code",
      "source": [
        "fig(width = 13, heigth = 6.75)\n",
        "group_rev %>% ggplot(aes(y = revenue, x = region)) +\n",
        "              geom_col() +\n",
        "            theme_minimal(base_size = 18)+\n",
        "  theme_bw() +\n",
        "  theme(panel.grid.major = element_blank(), panel.grid.minor = element_blank())+\n",
        "  theme(legend.text=element_text(size=12 ,face=\"bold\"), legend.title=element_text(size=12 ,face=\"bold\"), axis.text=element_text(size=12 ,face=\"bold\"),\n",
        "        axis.title=element_text(size=14,face=\"bold\"))"
      ],
      "metadata": {
        "colab": {
          "base_uri": "https://localhost:8080/",
          "height": 422
        },
        "id": "KUjEnZuZU9ej",
        "outputId": "cc38013b-4d6a-4789-f25d-00e58f85b8ed"
      },
      "execution_count": null,
      "outputs": [
        {
          "output_type": "display_data",
          "data": {
            "image/png": "[encoded data removed]",
            "text/plain": [
              "plot without title"
            ]
          },
          "metadata": {
            "image/png": {
              "width": 780,
              "height": 405
            }
          }
        }
      ]
    },
    {
      "cell_type": "markdown",
      "source": [
        "### **2. Which channel had the highest revenue per visit? What was its revenue per visit?**"
      ],
      "metadata": {
        "id": "NUZw0JHYepkw"
      }
    },
    {
      "cell_type": "code",
      "source": [
        "data_df %>% drop_na(\"revenue\") %>%\n",
        "           arrange(desc(revenue)) %>%\n",
        "           head(1) %>%\n",
        "           select(c(\"channel\", \"revenue\"))"
      ],
      "metadata": {
        "colab": {
          "base_uri": "https://localhost:8080/",
          "height": 129
        },
        "id": "30ZZVJc2NlFW",
        "outputId": "a3e398f6-9167-40eb-ebb2-3525a5dbf71a"
      },
      "execution_count": null,
      "outputs": [
        {
          "output_type": "display_data",
          "data": {
            "text/plain": [
              "  channel revenue\n",
              "1 display 2427.29"
            ],
            "text/latex": "A tibble: 1 × 2\n\\begin{tabular}{ll}\n channel & revenue\\\\\n <chr> & <dbl>\\\\\n\\hline\n\t display & 2427.29\\\\\n\\end{tabular}\n",
            "text/markdown": "\nA tibble: 1 × 2\n\n| channel &lt;chr&gt; | revenue &lt;dbl&gt; |\n|---|---|\n| display | 2427.29 |\n\n",
            "text/html": [
              "<table class=\"dataframe\">\n",
              "<caption>A tibble: 1 × 2</caption>\n",
              "<thead>\n",
              "\t<tr><th scope=col>channel</th><th scope=col>revenue</th></tr>\n",
              "\t<tr><th scope=col>&lt;chr&gt;</th><th scope=col>&lt;dbl&gt;</th></tr>\n",
              "</thead>\n",
              "<tbody>\n",
              "\t<tr><td>display</td><td>2427.29</td></tr>\n",
              "</tbody>\n",
              "</table>\n"
            ]
          },
          "metadata": {}
        }
      ]
    },
    {
      "cell_type": "markdown",
      "source": [
        "## The display channel had the highest revenue per visit and it generated $2427.29 per visit."
      ],
      "metadata": {
        "id": "vnnhrGlvRChN"
      }
    },
    {
      "cell_type": "markdown",
      "source": [
        "### **3. Which landing page had the highest overall conversion rate (% of visitors that go on to become paying subscribers)? What was its conversion rate?**"
      ],
      "metadata": {
        "id": "RIA9wNFjfEPm"
      }
    },
    {
      "cell_type": "code",
      "source": [
        "landing_page_conversion_rate =  data_df %>% \n",
        "            mutate(subscription_status = ifelse(is.na(subscription_start_date), 0,1)) %>%\n",
        "            group_by(landing_page) %>%\n",
        "            summarise( count = n(), conversion_rate = (sum(subscription_status)/ count) * 100, conversion_rate =  round(conversion_rate,2), .groups = 'drop') %>% \n",
        "            arrange(desc(conversion_rate))\n",
        "landing_page_conversion_rate"
      ],
      "metadata": {
        "colab": {
          "base_uri": "https://localhost:8080/",
          "height": 412
        },
        "id": "GiOBDZOHblet",
        "outputId": "35d3dfe8-e372-4b86-fc0d-987954afdf8e"
      },
      "execution_count": null,
      "outputs": [
        {
          "output_type": "display_data",
          "data": {
            "text/plain": [
              "   landing_page count conversion_rate\n",
              "1  H             773  65.72          \n",
              "2  A            1469  62.63          \n",
              "3  I            1253  62.25          \n",
              "4  G             950  61.89          \n",
              "5  E            3006  61.11          \n",
              "6  C            1096  58.67          \n",
              "7  J            1232  58.36          \n",
              "8  F             464  57.76          \n",
              "9  D            1751  57.51          \n",
              "10 B            1618  56.24          "
            ],
            "text/latex": "A tibble: 10 × 3\n\\begin{tabular}{lll}\n landing\\_page & count & conversion\\_rate\\\\\n <chr> & <int> & <dbl>\\\\\n\\hline\n\t H &  773 & 65.72\\\\\n\t A & 1469 & 62.63\\\\\n\t I & 1253 & 62.25\\\\\n\t G &  950 & 61.89\\\\\n\t E & 3006 & 61.11\\\\\n\t C & 1096 & 58.67\\\\\n\t J & 1232 & 58.36\\\\\n\t F &  464 & 57.76\\\\\n\t D & 1751 & 57.51\\\\\n\t B & 1618 & 56.24\\\\\n\\end{tabular}\n",
            "text/markdown": "\nA tibble: 10 × 3\n\n| landing_page &lt;chr&gt; | count &lt;int&gt; | conversion_rate &lt;dbl&gt; |\n|---|---|---|\n| H |  773 | 65.72 |\n| A | 1469 | 62.63 |\n| I | 1253 | 62.25 |\n| G |  950 | 61.89 |\n| E | 3006 | 61.11 |\n| C | 1096 | 58.67 |\n| J | 1232 | 58.36 |\n| F |  464 | 57.76 |\n| D | 1751 | 57.51 |\n| B | 1618 | 56.24 |\n\n",
            "text/html": [
              "<table class=\"dataframe\">\n",
              "<caption>A tibble: 10 × 3</caption>\n",
              "<thead>\n",
              "\t<tr><th scope=col>landing_page</th><th scope=col>count</th><th scope=col>conversion_rate</th></tr>\n",
              "\t<tr><th scope=col>&lt;chr&gt;</th><th scope=col>&lt;int&gt;</th><th scope=col>&lt;dbl&gt;</th></tr>\n",
              "</thead>\n",
              "<tbody>\n",
              "\t<tr><td>H</td><td> 773</td><td>65.72</td></tr>\n",
              "\t<tr><td>A</td><td>1469</td><td>62.63</td></tr>\n",
              "\t<tr><td>I</td><td>1253</td><td>62.25</td></tr>\n",
              "\t<tr><td>G</td><td> 950</td><td>61.89</td></tr>\n",
              "\t<tr><td>E</td><td>3006</td><td>61.11</td></tr>\n",
              "\t<tr><td>C</td><td>1096</td><td>58.67</td></tr>\n",
              "\t<tr><td>J</td><td>1232</td><td>58.36</td></tr>\n",
              "\t<tr><td>F</td><td> 464</td><td>57.76</td></tr>\n",
              "\t<tr><td>D</td><td>1751</td><td>57.51</td></tr>\n",
              "\t<tr><td>B</td><td>1618</td><td>56.24</td></tr>\n",
              "</tbody>\n",
              "</table>\n"
            ]
          },
          "metadata": {}
        }
      ]
    },
    {
      "cell_type": "code",
      "source": [
        "fig(width = 10, heigth = 6)\n",
        "landing_page_conversion_rate %>% ggplot(aes(y = conversion_rate, x = landing_page)) +\n",
        "              geom_col() +\n",
        "            theme_minimal(base_size = 18)+\n",
        "            labs(x = \"Landing page\", y = \"Overall conversion rate\") +\n",
        "  theme_bw() +\n",
        "  theme(panel.grid.major = element_blank(), panel.grid.minor = element_blank())+\n",
        "  theme(legend.text=element_text(size=12 ,face=\"bold\"), legend.title=element_text(size=12 ,face=\"bold\"), axis.text=element_text(size=12 ,face=\"bold\"),\n",
        "        axis.title=element_text(size=14,face=\"bold\"))"
      ],
      "metadata": {
        "colab": {
          "base_uri": "https://localhost:8080/",
          "height": 377
        },
        "id": "tG4yaJo6Q6Mb",
        "outputId": "79f9af8e-f49d-4fc5-f611-4171f033eb97"
      },
      "execution_count": null,
      "outputs": [
        {
          "output_type": "display_data",
          "data": {
            "image/png": "[encoded data removed]",
            "text/plain": [
              "plot without title"
            ]
          },
          "metadata": {
            "image/png": {
              "width": 600,
              "height": 360
            }
          }
        }
      ]
    },
    {
      "cell_type": "markdown",
      "source": [
        "## The \"D\" landing page had the highest overall conversion rate."
      ],
      "metadata": {
        "id": "8iwfr_gvRZoV"
      }
    },
    {
      "cell_type": "markdown",
      "source": [
        "### **4. Did any regions have a different top converting landing page (as compared to the previous answer)? If so, please list them along with their top landing page and its conversion rate.**"
      ],
      "metadata": {
        "id": "rBXYI5awglB1"
      }
    },
    {
      "cell_type": "code",
      "source": [
        "landing_page_conversion_rate =  data_df %>% \n",
        "            #mutate(subscription_status = ifelse(is.na(subscription_start_date), 0,1)) %>%\n",
        "            group_by(region,landing_page) %>%\n",
        "            summarise( count = n(), conversion_rate = (sum(!is.na(subscription_start_date))/ count) * 100, conversion_rate =  round(conversion_rate,2)) %>% arrange(desc(conversion_rate), .by_group = TRUE)\n",
        "landing_page_conversion_rate  %>% top_n(1)"
      ],
      "metadata": {
        "colab": {
          "base_uri": "https://localhost:8080/",
          "height": 324
        },
        "id": "AAdwFs9VYDbj",
        "outputId": "ed091eb2-b36f-4ae3-93e1-ff844316ca7a"
      },
      "execution_count": null,
      "outputs": [
        {
          "output_type": "stream",
          "name": "stderr",
          "text": [
            "`summarise()` has grouped output by 'region'. You can override using the `.groups` argument.\n",
            "\n",
            "Selecting by conversion_rate\n",
            "\n"
          ]
        },
        {
          "output_type": "display_data",
          "data": {
            "text/plain": [
              "  region                                      landing_page count\n",
              "1 Asia                                        H            118  \n",
              "2 Europe, Middle East, & Africa (Non-English) J            247  \n",
              "3 Latin America                               E            628  \n",
              "4 Other English-Speaking Countries            I            116  \n",
              "5 US/Canada                                   H            167  \n",
              "  conversion_rate\n",
              "1 69.49          \n",
              "2 64.78          \n",
              "3 69.27          \n",
              "4 65.52          \n",
              "5 68.86          "
            ],
            "text/latex": "A grouped\\_df: 5 × 4\n\\begin{tabular}{llll}\n region & landing\\_page & count & conversion\\_rate\\\\\n <chr> & <chr> & <int> & <dbl>\\\\\n\\hline\n\t Asia                                        & H & 118 & 69.49\\\\\n\t Europe, Middle East, \\& Africa (Non-English) & J & 247 & 64.78\\\\\n\t Latin America                               & E & 628 & 69.27\\\\\n\t Other English-Speaking Countries            & I & 116 & 65.52\\\\\n\t US/Canada                                   & H & 167 & 68.86\\\\\n\\end{tabular}\n",
            "text/markdown": "\nA grouped_df: 5 × 4\n\n| region &lt;chr&gt; | landing_page &lt;chr&gt; | count &lt;int&gt; | conversion_rate &lt;dbl&gt; |\n|---|---|---|---|\n| Asia                                        | H | 118 | 69.49 |\n| Europe, Middle East, &amp; Africa (Non-English) | J | 247 | 64.78 |\n| Latin America                               | E | 628 | 69.27 |\n| Other English-Speaking Countries            | I | 116 | 65.52 |\n| US/Canada                                   | H | 167 | 68.86 |\n\n",
            "text/html": [
              "<table class=\"dataframe\">\n",
              "<caption>A grouped_df: 5 × 4</caption>\n",
              "<thead>\n",
              "\t<tr><th scope=col>region</th><th scope=col>landing_page</th><th scope=col>count</th><th scope=col>conversion_rate</th></tr>\n",
              "\t<tr><th scope=col>&lt;chr&gt;</th><th scope=col>&lt;chr&gt;</th><th scope=col>&lt;int&gt;</th><th scope=col>&lt;dbl&gt;</th></tr>\n",
              "</thead>\n",
              "<tbody>\n",
              "\t<tr><td>Asia                                       </td><td>H</td><td>118</td><td>69.49</td></tr>\n",
              "\t<tr><td>Europe, Middle East, &amp; Africa (Non-English)</td><td>J</td><td>247</td><td>64.78</td></tr>\n",
              "\t<tr><td>Latin America                              </td><td>E</td><td>628</td><td>69.27</td></tr>\n",
              "\t<tr><td>Other English-Speaking Countries           </td><td>I</td><td>116</td><td>65.52</td></tr>\n",
              "\t<tr><td>US/Canada                                  </td><td>H</td><td>167</td><td>68.86</td></tr>\n",
              "</tbody>\n",
              "</table>\n"
            ]
          },
          "metadata": {}
        }
      ]
    },
    {
      "cell_type": "markdown",
      "source": [
        "## From the table above, the landing page (H) for US/Canada region has a different top landing page  and the conversion rate is 19.20%"
      ],
      "metadata": {
        "id": "hYdraBoUZwoA"
      }
    },
    {
      "cell_type": "code",
      "source": [
        "landing_page_conversion_rate  %>% top_n(2)"
      ],
      "metadata": {
        "colab": {
          "base_uri": "https://localhost:8080/",
          "height": 446
        },
        "id": "S5YP9PJOagNV",
        "outputId": "2a349f4e-0123-4d93-b998-c8dcdc47f4da"
      },
      "execution_count": null,
      "outputs": [
        {
          "output_type": "stream",
          "name": "stderr",
          "text": [
            "Selecting by conversion_rate\n",
            "\n"
          ]
        },
        {
          "output_type": "display_data",
          "data": {
            "text/plain": [
              "   region                                      landing_page count\n",
              "1  Asia                                        H            118  \n",
              "2  Asia                                        F            101  \n",
              "3  Europe, Middle East, & Africa (Non-English) J            247  \n",
              "4  Europe, Middle East, & Africa (Non-English) A            339  \n",
              "5  Latin America                               E            628  \n",
              "6  Latin America                               I            298  \n",
              "7  Other English-Speaking Countries            I            116  \n",
              "8  Other English-Speaking Countries            H            133  \n",
              "9  US/Canada                                   H            167  \n",
              "10 US/Canada                                   G            246  \n",
              "   conversion_rate\n",
              "1  69.49          \n",
              "2  64.36          \n",
              "3  64.78          \n",
              "4  63.42          \n",
              "5  69.27          \n",
              "6  68.46          \n",
              "7  65.52          \n",
              "8  63.91          \n",
              "9  68.86          \n",
              "10 60.57          "
            ],
            "text/latex": "A grouped\\_df: 10 × 4\n\\begin{tabular}{llll}\n region & landing\\_page & count & conversion\\_rate\\\\\n <chr> & <chr> & <int> & <dbl>\\\\\n\\hline\n\t Asia                                        & H & 118 & 69.49\\\\\n\t Asia                                        & F & 101 & 64.36\\\\\n\t Europe, Middle East, \\& Africa (Non-English) & J & 247 & 64.78\\\\\n\t Europe, Middle East, \\& Africa (Non-English) & A & 339 & 63.42\\\\\n\t Latin America                               & E & 628 & 69.27\\\\\n\t Latin America                               & I & 298 & 68.46\\\\\n\t Other English-Speaking Countries            & I & 116 & 65.52\\\\\n\t Other English-Speaking Countries            & H & 133 & 63.91\\\\\n\t US/Canada                                   & H & 167 & 68.86\\\\\n\t US/Canada                                   & G & 246 & 60.57\\\\\n\\end{tabular}\n",
            "text/markdown": "\nA grouped_df: 10 × 4\n\n| region &lt;chr&gt; | landing_page &lt;chr&gt; | count &lt;int&gt; | conversion_rate &lt;dbl&gt; |\n|---|---|---|---|\n| Asia                                        | H | 118 | 69.49 |\n| Asia                                        | F | 101 | 64.36 |\n| Europe, Middle East, &amp; Africa (Non-English) | J | 247 | 64.78 |\n| Europe, Middle East, &amp; Africa (Non-English) | A | 339 | 63.42 |\n| Latin America                               | E | 628 | 69.27 |\n| Latin America                               | I | 298 | 68.46 |\n| Other English-Speaking Countries            | I | 116 | 65.52 |\n| Other English-Speaking Countries            | H | 133 | 63.91 |\n| US/Canada                                   | H | 167 | 68.86 |\n| US/Canada                                   | G | 246 | 60.57 |\n\n",
            "text/html": [
              "<table class=\"dataframe\">\n",
              "<caption>A grouped_df: 10 × 4</caption>\n",
              "<thead>\n",
              "\t<tr><th scope=col>region</th><th scope=col>landing_page</th><th scope=col>count</th><th scope=col>conversion_rate</th></tr>\n",
              "\t<tr><th scope=col>&lt;chr&gt;</th><th scope=col>&lt;chr&gt;</th><th scope=col>&lt;int&gt;</th><th scope=col>&lt;dbl&gt;</th></tr>\n",
              "</thead>\n",
              "<tbody>\n",
              "\t<tr><td>Asia                                       </td><td>H</td><td>118</td><td>69.49</td></tr>\n",
              "\t<tr><td>Asia                                       </td><td>F</td><td>101</td><td>64.36</td></tr>\n",
              "\t<tr><td>Europe, Middle East, &amp; Africa (Non-English)</td><td>J</td><td>247</td><td>64.78</td></tr>\n",
              "\t<tr><td>Europe, Middle East, &amp; Africa (Non-English)</td><td>A</td><td>339</td><td>63.42</td></tr>\n",
              "\t<tr><td>Latin America                              </td><td>E</td><td>628</td><td>69.27</td></tr>\n",
              "\t<tr><td>Latin America                              </td><td>I</td><td>298</td><td>68.46</td></tr>\n",
              "\t<tr><td>Other English-Speaking Countries           </td><td>I</td><td>116</td><td>65.52</td></tr>\n",
              "\t<tr><td>Other English-Speaking Countries           </td><td>H</td><td>133</td><td>63.91</td></tr>\n",
              "\t<tr><td>US/Canada                                  </td><td>H</td><td>167</td><td>68.86</td></tr>\n",
              "\t<tr><td>US/Canada                                  </td><td>G</td><td>246</td><td>60.57</td></tr>\n",
              "</tbody>\n",
              "</table>\n"
            ]
          },
          "metadata": {}
        }
      ]
    },
    {
      "cell_type": "markdown",
      "source": [
        "### **5. Which region had the highest direct subscription rate (% of visitors that start a subscription directly without doing a trial)? What was its direct subscription rate?**"
      ],
      "metadata": {
        "id": "xzs3FbJLf_FX"
      }
    },
    {
      "cell_type": "code",
      "source": [
        "direct_subscription_rate_per_region =  data_df %>% \n",
        "             mutate(subscription_without_trial = (!is.na(subscription_start_date)) * is.na(trial_start_date)) %>%\n",
        "             group_by(region) %>%\n",
        "             summarise( count = n(), direct_subscription_rate = (sum(subscription_without_trial)/ count) * 100, direct_subscription_rate =  round(direct_subscription_rate,2), .groups = 'drop') %>%\n",
        "             arrange(desc(direct_subscription_rate))\n",
        "direct_subscription_rate_per_region"
      ],
      "metadata": {
        "colab": {
          "base_uri": "https://localhost:8080/",
          "height": 255
        },
        "id": "1-E6JVpbhrnk",
        "outputId": "fd2c2910-1f8c-4a16-cb99-9bf478a6d0f9"
      },
      "execution_count": null,
      "outputs": [
        {
          "output_type": "display_data",
          "data": {
            "text/plain": [
              "  region                                      count direct_subscription_rate\n",
              "1 Asia                                        2836  36.74                   \n",
              "2 Latin America                               3318  33.79                   \n",
              "3 US/Canada                                   3036  28.99                   \n",
              "4 Europe, Middle East, & Africa (Non-English) 2369  26.55                   \n",
              "5 Other English-Speaking Countries            2053  25.13                   "
            ],
            "text/latex": "A tibble: 5 × 3\n\\begin{tabular}{lll}\n region & count & direct\\_subscription\\_rate\\\\\n <chr> & <int> & <dbl>\\\\\n\\hline\n\t Asia                                        & 2836 & 36.74\\\\\n\t Latin America                               & 3318 & 33.79\\\\\n\t US/Canada                                   & 3036 & 28.99\\\\\n\t Europe, Middle East, \\& Africa (Non-English) & 2369 & 26.55\\\\\n\t Other English-Speaking Countries            & 2053 & 25.13\\\\\n\\end{tabular}\n",
            "text/markdown": "\nA tibble: 5 × 3\n\n| region &lt;chr&gt; | count &lt;int&gt; | direct_subscription_rate &lt;dbl&gt; |\n|---|---|---|\n| Asia                                        | 2836 | 36.74 |\n| Latin America                               | 3318 | 33.79 |\n| US/Canada                                   | 3036 | 28.99 |\n| Europe, Middle East, &amp; Africa (Non-English) | 2369 | 26.55 |\n| Other English-Speaking Countries            | 2053 | 25.13 |\n\n",
            "text/html": [
              "<table class=\"dataframe\">\n",
              "<caption>A tibble: 5 × 3</caption>\n",
              "<thead>\n",
              "\t<tr><th scope=col>region</th><th scope=col>count</th><th scope=col>direct_subscription_rate</th></tr>\n",
              "\t<tr><th scope=col>&lt;chr&gt;</th><th scope=col>&lt;int&gt;</th><th scope=col>&lt;dbl&gt;</th></tr>\n",
              "</thead>\n",
              "<tbody>\n",
              "\t<tr><td>Asia                                       </td><td>2836</td><td>36.74</td></tr>\n",
              "\t<tr><td>Latin America                              </td><td>3318</td><td>33.79</td></tr>\n",
              "\t<tr><td>US/Canada                                  </td><td>3036</td><td>28.99</td></tr>\n",
              "\t<tr><td>Europe, Middle East, &amp; Africa (Non-English)</td><td>2369</td><td>26.55</td></tr>\n",
              "\t<tr><td>Other English-Speaking Countries           </td><td>2053</td><td>25.13</td></tr>\n",
              "</tbody>\n",
              "</table>\n"
            ]
          },
          "metadata": {}
        }
      ]
    },
    {
      "cell_type": "markdown",
      "source": [
        "## The Asian region had the highest direct subscription rate of 10.03%"
      ],
      "metadata": {
        "id": "NOA705SUSOlg"
      }
    },
    {
      "cell_type": "markdown",
      "source": [
        "### **6. Which region had the highest trial start rate (% of visitors that start a trial, regardless of whether those users ultimately cancel or become paying subscribers)? What was its trial start rate?**"
      ],
      "metadata": {
        "id": "f7dRhXCyoWWM"
      }
    },
    {
      "cell_type": "code",
      "source": [
        "trial_start_rate_per_region =  data_df %>% \n",
        "            group_by(region) %>%\n",
        "            summarise( count = n(), trial_start_rate = (sum(!is.na(trial_start_date))/ count) * 100, trial_start_rate =  round(trial_start_rate,2), .groups = 'drop') %>%\n",
        "            arrange(desc(trial_start_rate))\n",
        "trial_start_rate_per_region"
      ],
      "metadata": {
        "id": "82198O-4gZfP",
        "colab": {
          "base_uri": "https://localhost:8080/",
          "height": 255
        },
        "outputId": "82e26bd1-f052-405b-bf96-18c7b811d62a"
      },
      "execution_count": null,
      "outputs": [
        {
          "output_type": "display_data",
          "data": {
            "text/plain": [
              "  region                                      count trial_start_rate\n",
              "1 Other English-Speaking Countries            2053  74.87           \n",
              "2 Europe, Middle East, & Africa (Non-English) 2369  73.45           \n",
              "3 US/Canada                                   3036  71.01           \n",
              "4 Latin America                               3318  66.21           \n",
              "5 Asia                                        2836  63.26           "
            ],
            "text/latex": "A tibble: 5 × 3\n\\begin{tabular}{lll}\n region & count & trial\\_start\\_rate\\\\\n <chr> & <int> & <dbl>\\\\\n\\hline\n\t Other English-Speaking Countries            & 2053 & 74.87\\\\\n\t Europe, Middle East, \\& Africa (Non-English) & 2369 & 73.45\\\\\n\t US/Canada                                   & 3036 & 71.01\\\\\n\t Latin America                               & 3318 & 66.21\\\\\n\t Asia                                        & 2836 & 63.26\\\\\n\\end{tabular}\n",
            "text/markdown": "\nA tibble: 5 × 3\n\n| region &lt;chr&gt; | count &lt;int&gt; | trial_start_rate &lt;dbl&gt; |\n|---|---|---|\n| Other English-Speaking Countries            | 2053 | 74.87 |\n| Europe, Middle East, &amp; Africa (Non-English) | 2369 | 73.45 |\n| US/Canada                                   | 3036 | 71.01 |\n| Latin America                               | 3318 | 66.21 |\n| Asia                                        | 2836 | 63.26 |\n\n",
            "text/html": [
              "<table class=\"dataframe\">\n",
              "<caption>A tibble: 5 × 3</caption>\n",
              "<thead>\n",
              "\t<tr><th scope=col>region</th><th scope=col>count</th><th scope=col>trial_start_rate</th></tr>\n",
              "\t<tr><th scope=col>&lt;chr&gt;</th><th scope=col>&lt;int&gt;</th><th scope=col>&lt;dbl&gt;</th></tr>\n",
              "</thead>\n",
              "<tbody>\n",
              "\t<tr><td>Other English-Speaking Countries           </td><td>2053</td><td>74.87</td></tr>\n",
              "\t<tr><td>Europe, Middle East, &amp; Africa (Non-English)</td><td>2369</td><td>73.45</td></tr>\n",
              "\t<tr><td>US/Canada                                  </td><td>3036</td><td>71.01</td></tr>\n",
              "\t<tr><td>Latin America                              </td><td>3318</td><td>66.21</td></tr>\n",
              "\t<tr><td>Asia                                       </td><td>2836</td><td>63.26</td></tr>\n",
              "</tbody>\n",
              "</table>\n"
            ]
          },
          "metadata": {}
        }
      ]
    },
    {
      "cell_type": "markdown",
      "source": [
        "## The Other English-Speaking Countries region had the highest trial start rate of 23.15%"
      ],
      "metadata": {
        "id": "j9He6pfrShb7"
      }
    },
    {
      "cell_type": "markdown",
      "source": [
        "### **7. Which region had the highest trial conversion rate (% of trials that start a subscription)? What was its trial conversion rate?**"
      ],
      "metadata": {
        "id": "EMWT0SEUpWyq"
      }
    },
    {
      "cell_type": "code",
      "source": [
        "trial_conversion_rate_per_region =  data_df %>% \n",
        "            mutate(trial_then_subscription = (!is.na(subscription_start_date)) * (!is.na(trial_start_date))) %>%\n",
        "             group_by(region) %>%\n",
        "             summarise( count = n(), trial_conversion_rate = (sum(trial_then_subscription)/ count) * 100, trial_conversion_rate =  round(trial_conversion_rate,2), .groups = 'drop') %>%\n",
        "            arrange(desc(trial_conversion_rate))\n",
        "trial_conversion_rate_per_region"
      ],
      "metadata": {
        "colab": {
          "base_uri": "https://localhost:8080/",
          "height": 255
        },
        "id": "HyCHstFFpO5B",
        "outputId": "16168e4f-b434-411a-c9e6-ea5028ca13ff"
      },
      "execution_count": null,
      "outputs": [
        {
          "output_type": "display_data",
          "data": {
            "text/plain": [
              "  region                                      count trial_conversion_rate\n",
              "1 Europe, Middle East, & Africa (Non-English) 2369  32.80                \n",
              "2 Other English-Speaking Countries            2053  32.49                \n",
              "3 Latin America                               3318  30.68                \n",
              "4 US/Canada                                   3036  26.78                \n",
              "5 Asia                                        2836  25.28                "
            ],
            "text/latex": "A tibble: 5 × 3\n\\begin{tabular}{lll}\n region & count & trial\\_conversion\\_rate\\\\\n <chr> & <int> & <dbl>\\\\\n\\hline\n\t Europe, Middle East, \\& Africa (Non-English) & 2369 & 32.80\\\\\n\t Other English-Speaking Countries            & 2053 & 32.49\\\\\n\t Latin America                               & 3318 & 30.68\\\\\n\t US/Canada                                   & 3036 & 26.78\\\\\n\t Asia                                        & 2836 & 25.28\\\\\n\\end{tabular}\n",
            "text/markdown": "\nA tibble: 5 × 3\n\n| region &lt;chr&gt; | count &lt;int&gt; | trial_conversion_rate &lt;dbl&gt; |\n|---|---|---|\n| Europe, Middle East, &amp; Africa (Non-English) | 2369 | 32.80 |\n| Other English-Speaking Countries            | 2053 | 32.49 |\n| Latin America                               | 3318 | 30.68 |\n| US/Canada                                   | 3036 | 26.78 |\n| Asia                                        | 2836 | 25.28 |\n\n",
            "text/html": [
              "<table class=\"dataframe\">\n",
              "<caption>A tibble: 5 × 3</caption>\n",
              "<thead>\n",
              "\t<tr><th scope=col>region</th><th scope=col>count</th><th scope=col>trial_conversion_rate</th></tr>\n",
              "\t<tr><th scope=col>&lt;chr&gt;</th><th scope=col>&lt;int&gt;</th><th scope=col>&lt;dbl&gt;</th></tr>\n",
              "</thead>\n",
              "<tbody>\n",
              "\t<tr><td>Europe, Middle East, &amp; Africa (Non-English)</td><td>2369</td><td>32.80</td></tr>\n",
              "\t<tr><td>Other English-Speaking Countries           </td><td>2053</td><td>32.49</td></tr>\n",
              "\t<tr><td>Latin America                              </td><td>3318</td><td>30.68</td></tr>\n",
              "\t<tr><td>US/Canada                                  </td><td>3036</td><td>26.78</td></tr>\n",
              "\t<tr><td>Asia                                       </td><td>2836</td><td>25.28</td></tr>\n",
              "</tbody>\n",
              "</table>\n"
            ]
          },
          "metadata": {}
        }
      ]
    },
    {
      "cell_type": "markdown",
      "source": [
        "## The Other English-Speaking Countries had highest trial conversion rate of 10.05%"
      ],
      "metadata": {
        "id": "BSOmlxLAS1ZB"
      }
    },
    {
      "cell_type": "markdown",
      "source": [
        "### **8. Suppose that the company has a goal to increase revenue from the US/Canada region by 20% over the next year. Provide at least 4 potential strategies we could employ to help us reach our goal (no supporting data analysis required—just ideas)**"
      ],
      "metadata": {
        "id": "HOdky7SQKrpB"
      }
    },
    {
      "cell_type": "markdown",
      "source": [
        "Based on my exploratory data and multivariate testing and power analysis, here are my recommendations on how Iroko TV can improve revenue by 20% in the US/Canda region.\n",
        "\n",
        "1. Although it appears landing pages D and H have the same conversion rates for the US/Canada region, the conversion rate from H is significantly better in a statistical sense. So it make sense to focus on using landing page H for visitors in this region.\n",
        "\n",
        "2. The data also suggest that visitors are more likely to end up subscribing (direct or post-trial) if they visit on Thurdays and Fridays. So perhaps, aggressively finding a way fro user to visit on these two day would yield more revenue.\n",
        "\n",
        "3. Likewise, days around the beginning of the month (1 & 3) middle of the month (15 &16)  and end of the month (20, 24, & 25) are days which the data suggest there is high conversion rate. Necessarily, focusing on these set of days would increase revenue.\n",
        "\n",
        "4. Since video appears to have the highest conversion rate, it makes sense to allocate more resources towards getting more visitors through the video channel. Based on the average revenue from the video channel which sits at roughly \\$790 compared to that of the organic search channel which is $930, there is an opportunity to increase revenue if more visitors are acquired via the video channel. \n"
      ],
      "metadata": {
        "id": "fzLe9xt-KqeL"
      }
    },
    {
      "cell_type": "code",
      "source": [
        "data_df_to_save = data_df %>% \n",
        "                  mutate(trial_then_subscription = (!is.na(subscription_start_date)) & (!is.na(trial_start_date)) ,\n",
        "                  subscription_without_trial = (!is.na(subscription_start_date)) & is.na(trial_start_date) ,\n",
        "                  subscription_status = ifelse(is.na(subscription_start_date), FALSE, TRUE),\n",
        "                  subscription_start_day_of_week = weekdays(subscription_start_date), \n",
        "                  subscription_end_day_of_week = weekdays(subscription_start_date),\n",
        "                  trial_start_day_of_week = weekdays(trial_start_date), \n",
        "                  trial_end_day_of_week = weekdays(trial_start_date),\n",
        "                  subcription_length = subscription_end_date -\tsubscription_start_date, \n",
        "                  trial_length = trial_end_date - trial_start_date)\n",
        "new_data = data_df_to_save        "
      ],
      "metadata": {
        "id": "dxetkVS1a9DW"
      },
      "execution_count": null,
      "outputs": []
    },
    {
      "cell_type": "code",
      "source": [
        " write_xlsx(data_df_to_save, \"iroko_df.xlsx\")   "
      ],
      "metadata": {
        "id": "qw6pqU-sd6yk"
      },
      "execution_count": null,
      "outputs": []
    },
    {
      "cell_type": "markdown",
      "source": [
        "## **Additional Data Analysis**"
      ],
      "metadata": {
        "id": "--PukOlh5vrr"
      }
    },
    {
      "cell_type": "code",
      "source": [
        "head(new_data[sample.int(dim(new_data)[1], 3),])"
      ],
      "metadata": {
        "colab": {
          "base_uri": "https://localhost:8080/",
          "height": 368
        },
        "id": "aU_UKBsTflh4",
        "outputId": "f86f20f2-5b3b-491b-ff73-bdfcba4dd446"
      },
      "execution_count": null,
      "outputs": [
        {
          "output_type": "display_data",
          "data": {
            "text/plain": [
              "  subscription_id                      account_id                          \n",
              "1 8f2eed47-d4d7-4e4b-b143-1e95dc22654e 5e58e4d8-1a50-4cd7-89ee-fbd40ead5a57\n",
              "2 3cf0bdca-39f4-448d-97e7-02ab47ee764b 82e23f9a-35f6-4cd6-9821-3b0595b2ea27\n",
              "3 cbc65864-999e-430c-91fa-68ca3c559fcc 49b08c49-8519-461c-996c-c4b4a025e6f3\n",
              "  subscription_start_date subscription_end_date trial_start_date trial_end_date\n",
              "1 2020-05-05              2021-05-05            2020-04-28       2020-05-05    \n",
              "2 <NA>                    <NA>                  2019-10-09       2019-10-16    \n",
              "3 2020-05-05              2021-05-05            2020-04-28       2020-05-05    \n",
              "  revenue visit_id                             day        region ⋯ landing_page\n",
              "1 1239.41 baee6338-4e58-41b1-ba1a-c5738652723e 2020-04-28 Asia   ⋯ D           \n",
              "2      NA a30b71fa-b75e-409d-944f-828df5ed5e67 2019-10-09 Asia   ⋯ E           \n",
              "3 1418.78 b6678edf-aac7-4dbd-8c23-4d8fd700fb04 2020-04-28 Asia   ⋯ B           \n",
              "  trial_then_subscription subscription_without_trial subscription_status\n",
              "1  TRUE                   FALSE                       TRUE              \n",
              "2 FALSE                   FALSE                      FALSE              \n",
              "3  TRUE                   FALSE                       TRUE              \n",
              "  subscription_start_day_of_week subscription_end_day_of_week\n",
              "1 Tuesday                        Tuesday                     \n",
              "2 NA                             NA                          \n",
              "3 Tuesday                        Tuesday                     \n",
              "  trial_start_day_of_week trial_end_day_of_week subcription_length trial_length\n",
              "1 Tuesday                 Tuesday               365 days           7 days      \n",
              "2 Wednesday               Wednesday              NA days           7 days      \n",
              "3 Tuesday                 Tuesday               365 days           7 days      "
            ],
            "text/latex": "A tibble: 3 × 22\n\\begin{tabular}{lllllllllllllllllllll}\n subscription\\_id & account\\_id & subscription\\_start\\_date & subscription\\_end\\_date & trial\\_start\\_date & trial\\_end\\_date & revenue & visit\\_id & day & region & ⋯ & landing\\_page & trial\\_then\\_subscription & subscription\\_without\\_trial & subscription\\_status & subscription\\_start\\_day\\_of\\_week & subscription\\_end\\_day\\_of\\_week & trial\\_start\\_day\\_of\\_week & trial\\_end\\_day\\_of\\_week & subcription\\_length & trial\\_length\\\\\n <chr> & <chr> & <dttm> & <dttm> & <dttm> & <dttm> & <dbl> & <chr> & <dttm> & <chr> & ⋯ & <chr> & <lgl> & <lgl> & <lgl> & <chr> & <chr> & <chr> & <chr> & <drtn> & <drtn>\\\\\n\\hline\n\t 8f2eed47-d4d7-4e4b-b143-1e95dc22654e & 5e58e4d8-1a50-4cd7-89ee-fbd40ead5a57 & 2020-05-05 & 2021-05-05 & 2020-04-28 & 2020-05-05 & 1239.41 & baee6338-4e58-41b1-ba1a-c5738652723e & 2020-04-28 & Asia & ⋯ & D &  TRUE & FALSE &  TRUE & Tuesday & Tuesday & Tuesday   & Tuesday   & 365 days & 7 days\\\\\n\t 3cf0bdca-39f4-448d-97e7-02ab47ee764b & 82e23f9a-35f6-4cd6-9821-3b0595b2ea27 & NA & NA & 2019-10-09 & 2019-10-16 &      NA & a30b71fa-b75e-409d-944f-828df5ed5e67 & 2019-10-09 & Asia & ⋯ & E & FALSE & FALSE & FALSE & NA      & NA      & Wednesday & Wednesday &  NA days & 7 days\\\\\n\t cbc65864-999e-430c-91fa-68ca3c559fcc & 49b08c49-8519-461c-996c-c4b4a025e6f3 & 2020-05-05 & 2021-05-05 & 2020-04-28 & 2020-05-05 & 1418.78 & b6678edf-aac7-4dbd-8c23-4d8fd700fb04 & 2020-04-28 & Asia & ⋯ & B &  TRUE & FALSE &  TRUE & Tuesday & Tuesday & Tuesday   & Tuesday   & 365 days & 7 days\\\\\n\\end{tabular}\n",
            "text/markdown": "\nA tibble: 3 × 22\n\n| subscription_id &lt;chr&gt; | account_id &lt;chr&gt; | subscription_start_date &lt;dttm&gt; | subscription_end_date &lt;dttm&gt; | trial_start_date &lt;dttm&gt; | trial_end_date &lt;dttm&gt; | revenue &lt;dbl&gt; | visit_id &lt;chr&gt; | day &lt;dttm&gt; | region &lt;chr&gt; | ⋯ ⋯ | landing_page &lt;chr&gt; | trial_then_subscription &lt;lgl&gt; | subscription_without_trial &lt;lgl&gt; | subscription_status &lt;lgl&gt; | subscription_start_day_of_week &lt;chr&gt; | subscription_end_day_of_week &lt;chr&gt; | trial_start_day_of_week &lt;chr&gt; | trial_end_day_of_week &lt;chr&gt; | subcription_length &lt;drtn&gt; | trial_length &lt;drtn&gt; |\n|---|---|---|---|---|---|---|---|---|---|---|---|---|---|---|---|---|---|---|---|---|\n| 8f2eed47-d4d7-4e4b-b143-1e95dc22654e | 5e58e4d8-1a50-4cd7-89ee-fbd40ead5a57 | 2020-05-05 | 2021-05-05 | 2020-04-28 | 2020-05-05 | 1239.41 | baee6338-4e58-41b1-ba1a-c5738652723e | 2020-04-28 | Asia | ⋯ | D |  TRUE | FALSE |  TRUE | Tuesday | Tuesday | Tuesday   | Tuesday   | 365 days | 7 days |\n| 3cf0bdca-39f4-448d-97e7-02ab47ee764b | 82e23f9a-35f6-4cd6-9821-3b0595b2ea27 | NA | NA | 2019-10-09 | 2019-10-16 |      NA | a30b71fa-b75e-409d-944f-828df5ed5e67 | 2019-10-09 | Asia | ⋯ | E | FALSE | FALSE | FALSE | NA      | NA      | Wednesday | Wednesday |  NA days | 7 days |\n| cbc65864-999e-430c-91fa-68ca3c559fcc | 49b08c49-8519-461c-996c-c4b4a025e6f3 | 2020-05-05 | 2021-05-05 | 2020-04-28 | 2020-05-05 | 1418.78 | b6678edf-aac7-4dbd-8c23-4d8fd700fb04 | 2020-04-28 | Asia | ⋯ | B |  TRUE | FALSE |  TRUE | Tuesday | Tuesday | Tuesday   | Tuesday   | 365 days | 7 days |\n\n",
            "text/html": [
              "<table class=\"dataframe\">\n",
              "<caption>A tibble: 3 × 22</caption>\n",
              "<thead>\n",
              "\t<tr><th scope=col>subscription_id</th><th scope=col>account_id</th><th scope=col>subscription_start_date</th><th scope=col>subscription_end_date</th><th scope=col>trial_start_date</th><th scope=col>trial_end_date</th><th scope=col>revenue</th><th scope=col>visit_id</th><th scope=col>day</th><th scope=col>region</th><th scope=col>⋯</th><th scope=col>landing_page</th><th scope=col>trial_then_subscription</th><th scope=col>subscription_without_trial</th><th scope=col>subscription_status</th><th scope=col>subscription_start_day_of_week</th><th scope=col>subscription_end_day_of_week</th><th scope=col>trial_start_day_of_week</th><th scope=col>trial_end_day_of_week</th><th scope=col>subcription_length</th><th scope=col>trial_length</th></tr>\n",
              "\t<tr><th scope=col>&lt;chr&gt;</th><th scope=col>&lt;chr&gt;</th><th scope=col>&lt;dttm&gt;</th><th scope=col>&lt;dttm&gt;</th><th scope=col>&lt;dttm&gt;</th><th scope=col>&lt;dttm&gt;</th><th scope=col>&lt;dbl&gt;</th><th scope=col>&lt;chr&gt;</th><th scope=col>&lt;dttm&gt;</th><th scope=col>&lt;chr&gt;</th><th scope=col>⋯</th><th scope=col>&lt;chr&gt;</th><th scope=col>&lt;lgl&gt;</th><th scope=col>&lt;lgl&gt;</th><th scope=col>&lt;lgl&gt;</th><th scope=col>&lt;chr&gt;</th><th scope=col>&lt;chr&gt;</th><th scope=col>&lt;chr&gt;</th><th scope=col>&lt;chr&gt;</th><th scope=col>&lt;drtn&gt;</th><th scope=col>&lt;drtn&gt;</th></tr>\n",
              "</thead>\n",
              "<tbody>\n",
              "\t<tr><td>8f2eed47-d4d7-4e4b-b143-1e95dc22654e</td><td>5e58e4d8-1a50-4cd7-89ee-fbd40ead5a57</td><td>2020-05-05</td><td>2021-05-05</td><td>2020-04-28</td><td>2020-05-05</td><td>1239.41</td><td>baee6338-4e58-41b1-ba1a-c5738652723e</td><td>2020-04-28</td><td>Asia</td><td>⋯</td><td>D</td><td> TRUE</td><td>FALSE</td><td> TRUE</td><td>Tuesday</td><td>Tuesday</td><td>Tuesday  </td><td>Tuesday  </td><td>365 days</td><td>7 days</td></tr>\n",
              "\t<tr><td>3cf0bdca-39f4-448d-97e7-02ab47ee764b</td><td>82e23f9a-35f6-4cd6-9821-3b0595b2ea27</td><td>NA</td><td>NA</td><td>2019-10-09</td><td>2019-10-16</td><td>     NA</td><td>a30b71fa-b75e-409d-944f-828df5ed5e67</td><td>2019-10-09</td><td>Asia</td><td>⋯</td><td>E</td><td>FALSE</td><td>FALSE</td><td>FALSE</td><td>NA     </td><td>NA     </td><td>Wednesday</td><td>Wednesday</td><td> NA days</td><td>7 days</td></tr>\n",
              "\t<tr><td>cbc65864-999e-430c-91fa-68ca3c559fcc</td><td>49b08c49-8519-461c-996c-c4b4a025e6f3</td><td>2020-05-05</td><td>2021-05-05</td><td>2020-04-28</td><td>2020-05-05</td><td>1418.78</td><td>b6678edf-aac7-4dbd-8c23-4d8fd700fb04</td><td>2020-04-28</td><td>Asia</td><td>⋯</td><td>B</td><td> TRUE</td><td>FALSE</td><td> TRUE</td><td>Tuesday</td><td>Tuesday</td><td>Tuesday  </td><td>Tuesday  </td><td>365 days</td><td>7 days</td></tr>\n",
              "</tbody>\n",
              "</table>\n"
            ]
          },
          "metadata": {}
        }
      ]
    },
    {
      "cell_type": "code",
      "source": [
        "US_Canada_data = new_data %>% filter(region == \"US/Canada\")\n",
        "dim(US_Canada_data)"
      ],
      "metadata": {
        "colab": {
          "base_uri": "https://localhost:8080/",
          "height": 34
        },
        "id": "KUuD4n08dnUp",
        "outputId": "2466b840-1e06-4474-cb8c-869ebd8322f7"
      },
      "execution_count": null,
      "outputs": [
        {
          "output_type": "display_data",
          "data": {
            "text/plain": [
              "[1] 3036   22"
            ],
            "text/latex": "\\begin{enumerate*}\n\\item 3036\n\\item 22\n\\end{enumerate*}\n",
            "text/markdown": "1. 3036\n2. 22\n\n\n",
            "text/html": [
              "<style>\n",
              ".list-inline {list-style: none; margin:0; padding: 0}\n",
              ".list-inline>li {display: inline-block}\n",
              ".list-inline>li:not(:last-child)::after {content: \"\\00b7\"; padding: 0 .5ex}\n",
              "</style>\n",
              "<ol class=list-inline><li>3036</li><li>22</li></ol>\n"
            ]
          },
          "metadata": {}
        }
      ]
    },
    {
      "cell_type": "code",
      "source": [
        "p_load(lubridate, powerMediation)"
      ],
      "metadata": {
        "id": "92C2t5MRs83_",
        "colab": {
          "base_uri": "https://localhost:8080/"
        },
        "outputId": "3f73b552-ed65-4fa5-97b7-8a8312095ae1"
      },
      "execution_count": null,
      "outputs": [
        {
          "output_type": "stream",
          "name": "stderr",
          "text": [
            "Installing package into ‘/usr/local/lib/R/site-library’\n",
            "(as ‘lib’ is unspecified)\n",
            "\n",
            "\n",
            "powerMediation installed\n",
            "\n"
          ]
        }
      ]
    },
    {
      "cell_type": "code",
      "source": [
        "total_sample_size <- SSizeLogisticBin(p1 = 0.19,\n",
        "                                      p2 = 0.39,\n",
        "                                      B = 0.5,\n",
        "                                      alpha = 0.05,\n",
        "                                      power = 0.8)\n",
        "total_sample_size"
      ],
      "metadata": {
        "colab": {
          "base_uri": "https://localhost:8080/",
          "height": 34
        },
        "id": "lq39AgoDvXdH",
        "outputId": "10315f9b-e05e-4764-f7a2-78230bdbc5fe"
      },
      "execution_count": null,
      "outputs": [
        {
          "output_type": "display_data",
          "data": {
            "text/plain": [
              "[1] 160"
            ],
            "text/latex": "160",
            "text/markdown": "160",
            "text/html": [
              "160"
            ]
          },
          "metadata": {}
        }
      ]
    },
    {
      "cell_type": "code",
      "source": [
        "US_Canada_Anova =  aov(revenue ~ landing_page, US_Canada_data)\n",
        "anova_summary( US_Canada_Anova )"
      ],
      "metadata": {
        "colab": {
          "base_uri": "https://localhost:8080/",
          "height": 129
        },
        "id": "9reyZ5CVh6kO",
        "outputId": "7ed8c0b0-43b0-490d-93a9-1a97d94ef739"
      },
      "execution_count": null,
      "outputs": [
        {
          "output_type": "display_data",
          "data": {
            "text/plain": [
              "  Effect       DFn DFd  F      p        p<.05 ges  \n",
              "1 landing_page 9   1683 56.723 1.41e-90 *     0.233"
            ],
            "text/latex": "A anova: 1 × 7\n\\begin{tabular}{r|lllllll}\n  & Effect & DFn & DFd & F & p & p<.05 & ges\\\\\n  & <chr> & <dbl> & <dbl> & <dbl> & <dbl> & <chr> & <dbl>\\\\\n\\hline\n\t1 & landing\\_page & 9 & 1683 & 56.723 & 1.41e-90 & * & 0.233\\\\\n\\end{tabular}\n",
            "text/markdown": "\nA anova: 1 × 7\n\n| <!--/--> | Effect &lt;chr&gt; | DFn &lt;dbl&gt; | DFd &lt;dbl&gt; | F &lt;dbl&gt; | p &lt;dbl&gt; | p&lt;.05 &lt;chr&gt; | ges &lt;dbl&gt; |\n|---|---|---|---|---|---|---|---|\n| 1 | landing_page | 9 | 1683 | 56.723 | 1.41e-90 | * | 0.233 |\n\n",
            "text/html": [
              "<table class=\"dataframe\">\n",
              "<caption>A anova: 1 × 7</caption>\n",
              "<thead>\n",
              "\t<tr><th></th><th scope=col>Effect</th><th scope=col>DFn</th><th scope=col>DFd</th><th scope=col>F</th><th scope=col>p</th><th scope=col>p&lt;.05</th><th scope=col>ges</th></tr>\n",
              "\t<tr><th></th><th scope=col>&lt;chr&gt;</th><th scope=col>&lt;dbl&gt;</th><th scope=col>&lt;dbl&gt;</th><th scope=col>&lt;dbl&gt;</th><th scope=col>&lt;dbl&gt;</th><th scope=col>&lt;chr&gt;</th><th scope=col>&lt;dbl&gt;</th></tr>\n",
              "</thead>\n",
              "<tbody>\n",
              "\t<tr><th scope=row>1</th><td>landing_page</td><td>9</td><td>1683</td><td>56.723</td><td>1.41e-90</td><td>*</td><td>0.233</td></tr>\n",
              "</tbody>\n",
              "</table>\n"
            ]
          },
          "metadata": {}
        }
      ]
    },
    {
      "cell_type": "code",
      "source": [
        "US_Canada_Anova %>% tukey_hsd()"
      ],
      "metadata": {
        "colab": {
          "base_uri": "https://localhost:8080/",
          "height": 1000
        },
        "id": "Vyxho4dWkFbA",
        "outputId": "5744340a-a76d-45e9-cb56-95aca98b446e"
      },
      "execution_count": null,
      "outputs": [
        {
          "output_type": "display_data",
          "data": {
            "text/plain": [
              "   term         group1 group2 null.value estimate    conf.low    conf.high  \n",
              "1  landing_page A      B      0          -366.211985 -439.901326 -292.522644\n",
              "2  landing_page A      C      0          -406.148184 -482.655201 -329.641167\n",
              "3  landing_page A      D      0           -84.100754 -155.851801  -12.349706\n",
              "4  landing_page A      E      0          -235.739701 -296.582382 -174.897021\n",
              "5  landing_page A      F      0          -328.880168 -437.713296 -220.047039\n",
              "6  landing_page A      G      0          -216.709011 -291.390157 -142.027865\n",
              "7  landing_page A      H      0          -265.635168 -345.829246 -185.441091\n",
              "8  landing_page A      I      0          -173.942473 -245.404153 -102.480794\n",
              "9  landing_page A      J      0          -325.176390 -399.601004 -250.751776\n",
              "10 landing_page B      C      0           -39.936199 -116.778328   36.905930\n",
              "11 landing_page B      D      0           282.111231  210.002965  354.219497\n",
              "12 landing_page B      E      0           130.472283   69.208747  191.735820\n",
              "13 landing_page B      F      0            37.331817  -71.737147  146.400781\n",
              "14 landing_page B      G      0           149.502974   74.478560  224.527388\n",
              "15 landing_page B      H      0           100.576816   20.062972  181.090661\n",
              "16 landing_page B      I      0           192.269512  120.449175  264.089848\n",
              "17 landing_page B      J      0            41.035595  -33.733465  115.804655\n",
              "18 landing_page C      D      0           322.047430  247.062054  397.032807\n",
              "19 landing_page C      E      0           170.408482  105.783212  235.033752\n",
              "20 landing_page C      F      0            77.268016  -33.724072  188.260104\n",
              "21 landing_page C      G      0           189.439173  111.645424  267.232922\n",
              "22 landing_page C      H      0           140.513015   57.412571  223.613460\n",
              "23 landing_page C      I      0           232.205711  157.497174  306.914247\n",
              "24 landing_page C      J      0            80.971794    3.424280  158.519308\n",
              "25 landing_page D      E      0          -151.638948 -210.556812  -92.721084\n",
              "26 landing_page D      F      0          -244.779414 -352.548300 -137.010528\n",
              "27 landing_page D      G      0          -132.608257 -205.729777  -59.486738\n",
              "28 landing_page D      H      0          -181.534415 -260.278132 -102.790697\n",
              "29 landing_page D      I      0           -89.841720 -159.671904  -20.011536\n",
              "30 landing_page D      J      0          -241.075636 -313.935132 -168.216140\n",
              "31 landing_page E      F      0           -93.140466 -193.975736    7.694804\n",
              "32 landing_page E      G      0            19.030691  -43.422295   81.483676\n",
              "33 landing_page E      H      0           -29.895467  -98.846115   39.055181\n",
              "34 landing_page E      I      0            61.797228    3.232107  120.362350\n",
              "35 landing_page E      J      0           -89.436688 -151.582686  -27.290691\n",
              "36 landing_page F      G      0           112.171157    2.429672  221.912642\n",
              "37 landing_page F      H      0            63.244999  -50.320004  176.810002\n",
              "38 landing_page F      I      0           154.937694   47.361249  262.514139\n",
              "39 landing_page F      J      0             3.703778 -105.863293  113.270849\n",
              "40 landing_page G      H      0           -48.926158 -130.348721   32.496405\n",
              "41 landing_page G      I      0            42.766538  -30.071058  115.604133\n",
              "42 landing_page G      J      0          -108.467379 -184.214107  -32.720651\n",
              "43 landing_page H      I      0            91.692695   13.212559  170.172831\n",
              "44 landing_page H      J      0           -59.541221 -140.728556   21.646113\n",
              "45 landing_page I      J      0          -151.233917 -223.808464  -78.659370\n",
              "   p.adj    p.adj.signif\n",
              "1  1.54e-12 ****        \n",
              "2  1.54e-12 ****        \n",
              "3  8.03e-03 **          \n",
              "4  1.54e-12 ****        \n",
              "5  1.63e-12 ****        \n",
              "6  1.65e-12 ****        \n",
              "7  1.63e-12 ****        \n",
              "8  2.56e-12 ****        \n",
              "9  1.54e-12 ****        \n",
              "10 8.25e-01 ns          \n",
              "11 1.54e-12 ****        \n",
              "12 9.34e-10 ****        \n",
              "13 9.86e-01 ns          \n",
              "14 1.57e-08 ****        \n",
              "15 3.15e-03 **          \n",
              "16 1.64e-12 ****        \n",
              "17 7.73e-01 ns          \n",
              "18 1.54e-12 ****        \n",
              "19 1.65e-12 ****        \n",
              "20 4.53e-01 ns          \n",
              "21 2.54e-12 ****        \n",
              "22 4.29e-06 ****        \n",
              "23 1.64e-12 ****        \n",
              "24 3.24e-02 *           \n",
              "25 1.69e-12 ****        \n",
              "26 4.36e-11 ****        \n",
              "27 4.86e-07 ****        \n",
              "28 2.10e-11 ****        \n",
              "29 1.95e-03 **          \n",
              "30 1.63e-12 ****        \n",
              "31 9.92e-02 ns          \n",
              "32 9.94e-01 ns          \n",
              "33 9.35e-01 ns          \n",
              "34 2.90e-02 *           \n",
              "35 2.36e-04 ***         \n",
              "36 4.04e-02 *           \n",
              "37 7.58e-01 ns          \n",
              "38 2.32e-04 ***         \n",
              "39 1.00e+00 ns          \n",
              "40 6.67e-01 ns          \n",
              "41 6.96e-01 ns          \n",
              "42 2.62e-04 ***         \n",
              "43 8.40e-03 **          \n",
              "44 3.74e-01 ns          \n",
              "45 2.45e-09 ****        "
            ],
            "text/latex": "A rstatix\\_test: 45 × 9\n\\begin{tabular}{r|lllllllll}\n  & term & group1 & group2 & null.value & estimate & conf.low & conf.high & p.adj & p.adj.signif\\\\\n  & <chr> & <chr> & <chr> & <dbl> & <dbl> & <dbl> & <dbl> & <dbl> & <chr>\\\\\n\\hline\n\t1 & landing\\_page & A & B & 0 & -366.211985 & -439.901326 & -292.522644 & 1.54e-12 & ****\\\\\n\t2 & landing\\_page & A & C & 0 & -406.148184 & -482.655201 & -329.641167 & 1.54e-12 & ****\\\\\n\t3 & landing\\_page & A & D & 0 &  -84.100754 & -155.851801 &  -12.349706 & 8.03e-03 & **  \\\\\n\t4 & landing\\_page & A & E & 0 & -235.739701 & -296.582382 & -174.897021 & 1.54e-12 & ****\\\\\n\t5 & landing\\_page & A & F & 0 & -328.880168 & -437.713296 & -220.047039 & 1.63e-12 & ****\\\\\n\t6 & landing\\_page & A & G & 0 & -216.709011 & -291.390157 & -142.027865 & 1.65e-12 & ****\\\\\n\t7 & landing\\_page & A & H & 0 & -265.635168 & -345.829246 & -185.441091 & 1.63e-12 & ****\\\\\n\t8 & landing\\_page & A & I & 0 & -173.942473 & -245.404153 & -102.480794 & 2.56e-12 & ****\\\\\n\t9 & landing\\_page & A & J & 0 & -325.176390 & -399.601004 & -250.751776 & 1.54e-12 & ****\\\\\n\t10 & landing\\_page & B & C & 0 &  -39.936199 & -116.778328 &   36.905930 & 8.25e-01 & ns  \\\\\n\t11 & landing\\_page & B & D & 0 &  282.111231 &  210.002965 &  354.219497 & 1.54e-12 & ****\\\\\n\t12 & landing\\_page & B & E & 0 &  130.472283 &   69.208747 &  191.735820 & 9.34e-10 & ****\\\\\n\t13 & landing\\_page & B & F & 0 &   37.331817 &  -71.737147 &  146.400781 & 9.86e-01 & ns  \\\\\n\t14 & landing\\_page & B & G & 0 &  149.502974 &   74.478560 &  224.527388 & 1.57e-08 & ****\\\\\n\t15 & landing\\_page & B & H & 0 &  100.576816 &   20.062972 &  181.090661 & 3.15e-03 & **  \\\\\n\t16 & landing\\_page & B & I & 0 &  192.269512 &  120.449175 &  264.089848 & 1.64e-12 & ****\\\\\n\t17 & landing\\_page & B & J & 0 &   41.035595 &  -33.733465 &  115.804655 & 7.73e-01 & ns  \\\\\n\t18 & landing\\_page & C & D & 0 &  322.047430 &  247.062054 &  397.032807 & 1.54e-12 & ****\\\\\n\t19 & landing\\_page & C & E & 0 &  170.408482 &  105.783212 &  235.033752 & 1.65e-12 & ****\\\\\n\t20 & landing\\_page & C & F & 0 &   77.268016 &  -33.724072 &  188.260104 & 4.53e-01 & ns  \\\\\n\t21 & landing\\_page & C & G & 0 &  189.439173 &  111.645424 &  267.232922 & 2.54e-12 & ****\\\\\n\t22 & landing\\_page & C & H & 0 &  140.513015 &   57.412571 &  223.613460 & 4.29e-06 & ****\\\\\n\t23 & landing\\_page & C & I & 0 &  232.205711 &  157.497174 &  306.914247 & 1.64e-12 & ****\\\\\n\t24 & landing\\_page & C & J & 0 &   80.971794 &    3.424280 &  158.519308 & 3.24e-02 & *   \\\\\n\t25 & landing\\_page & D & E & 0 & -151.638948 & -210.556812 &  -92.721084 & 1.69e-12 & ****\\\\\n\t26 & landing\\_page & D & F & 0 & -244.779414 & -352.548300 & -137.010528 & 4.36e-11 & ****\\\\\n\t27 & landing\\_page & D & G & 0 & -132.608257 & -205.729777 &  -59.486738 & 4.86e-07 & ****\\\\\n\t28 & landing\\_page & D & H & 0 & -181.534415 & -260.278132 & -102.790697 & 2.10e-11 & ****\\\\\n\t29 & landing\\_page & D & I & 0 &  -89.841720 & -159.671904 &  -20.011536 & 1.95e-03 & **  \\\\\n\t30 & landing\\_page & D & J & 0 & -241.075636 & -313.935132 & -168.216140 & 1.63e-12 & ****\\\\\n\t31 & landing\\_page & E & F & 0 &  -93.140466 & -193.975736 &    7.694804 & 9.92e-02 & ns  \\\\\n\t32 & landing\\_page & E & G & 0 &   19.030691 &  -43.422295 &   81.483676 & 9.94e-01 & ns  \\\\\n\t33 & landing\\_page & E & H & 0 &  -29.895467 &  -98.846115 &   39.055181 & 9.35e-01 & ns  \\\\\n\t34 & landing\\_page & E & I & 0 &   61.797228 &    3.232107 &  120.362350 & 2.90e-02 & *   \\\\\n\t35 & landing\\_page & E & J & 0 &  -89.436688 & -151.582686 &  -27.290691 & 2.36e-04 & *** \\\\\n\t36 & landing\\_page & F & G & 0 &  112.171157 &    2.429672 &  221.912642 & 4.04e-02 & *   \\\\\n\t37 & landing\\_page & F & H & 0 &   63.244999 &  -50.320004 &  176.810002 & 7.58e-01 & ns  \\\\\n\t38 & landing\\_page & F & I & 0 &  154.937694 &   47.361249 &  262.514139 & 2.32e-04 & *** \\\\\n\t39 & landing\\_page & F & J & 0 &    3.703778 & -105.863293 &  113.270849 & 1.00e+00 & ns  \\\\\n\t40 & landing\\_page & G & H & 0 &  -48.926158 & -130.348721 &   32.496405 & 6.67e-01 & ns  \\\\\n\t41 & landing\\_page & G & I & 0 &   42.766538 &  -30.071058 &  115.604133 & 6.96e-01 & ns  \\\\\n\t42 & landing\\_page & G & J & 0 & -108.467379 & -184.214107 &  -32.720651 & 2.62e-04 & *** \\\\\n\t43 & landing\\_page & H & I & 0 &   91.692695 &   13.212559 &  170.172831 & 8.40e-03 & **  \\\\\n\t44 & landing\\_page & H & J & 0 &  -59.541221 & -140.728556 &   21.646113 & 3.74e-01 & ns  \\\\\n\t45 & landing\\_page & I & J & 0 & -151.233917 & -223.808464 &  -78.659370 & 2.45e-09 & ****\\\\\n\\end{tabular}\n",
            "text/markdown": "\nA rstatix_test: 45 × 9\n\n| <!--/--> | term &lt;chr&gt; | group1 &lt;chr&gt; | group2 &lt;chr&gt; | null.value &lt;dbl&gt; | estimate &lt;dbl&gt; | conf.low &lt;dbl&gt; | conf.high &lt;dbl&gt; | p.adj &lt;dbl&gt; | p.adj.signif &lt;chr&gt; |\n|---|---|---|---|---|---|---|---|---|---|\n| 1 | landing_page | A | B | 0 | -366.211985 | -439.901326 | -292.522644 | 1.54e-12 | **** |\n| 2 | landing_page | A | C | 0 | -406.148184 | -482.655201 | -329.641167 | 1.54e-12 | **** |\n| 3 | landing_page | A | D | 0 |  -84.100754 | -155.851801 |  -12.349706 | 8.03e-03 | **   |\n| 4 | landing_page | A | E | 0 | -235.739701 | -296.582382 | -174.897021 | 1.54e-12 | **** |\n| 5 | landing_page | A | F | 0 | -328.880168 | -437.713296 | -220.047039 | 1.63e-12 | **** |\n| 6 | landing_page | A | G | 0 | -216.709011 | -291.390157 | -142.027865 | 1.65e-12 | **** |\n| 7 | landing_page | A | H | 0 | -265.635168 | -345.829246 | -185.441091 | 1.63e-12 | **** |\n| 8 | landing_page | A | I | 0 | -173.942473 | -245.404153 | -102.480794 | 2.56e-12 | **** |\n| 9 | landing_page | A | J | 0 | -325.176390 | -399.601004 | -250.751776 | 1.54e-12 | **** |\n| 10 | landing_page | B | C | 0 |  -39.936199 | -116.778328 |   36.905930 | 8.25e-01 | ns   |\n| 11 | landing_page | B | D | 0 |  282.111231 |  210.002965 |  354.219497 | 1.54e-12 | **** |\n| 12 | landing_page | B | E | 0 |  130.472283 |   69.208747 |  191.735820 | 9.34e-10 | **** |\n| 13 | landing_page | B | F | 0 |   37.331817 |  -71.737147 |  146.400781 | 9.86e-01 | ns   |\n| 14 | landing_page | B | G | 0 |  149.502974 |   74.478560 |  224.527388 | 1.57e-08 | **** |\n| 15 | landing_page | B | H | 0 |  100.576816 |   20.062972 |  181.090661 | 3.15e-03 | **   |\n| 16 | landing_page | B | I | 0 |  192.269512 |  120.449175 |  264.089848 | 1.64e-12 | **** |\n| 17 | landing_page | B | J | 0 |   41.035595 |  -33.733465 |  115.804655 | 7.73e-01 | ns   |\n| 18 | landing_page | C | D | 0 |  322.047430 |  247.062054 |  397.032807 | 1.54e-12 | **** |\n| 19 | landing_page | C | E | 0 |  170.408482 |  105.783212 |  235.033752 | 1.65e-12 | **** |\n| 20 | landing_page | C | F | 0 |   77.268016 |  -33.724072 |  188.260104 | 4.53e-01 | ns   |\n| 21 | landing_page | C | G | 0 |  189.439173 |  111.645424 |  267.232922 | 2.54e-12 | **** |\n| 22 | landing_page | C | H | 0 |  140.513015 |   57.412571 |  223.613460 | 4.29e-06 | **** |\n| 23 | landing_page | C | I | 0 |  232.205711 |  157.497174 |  306.914247 | 1.64e-12 | **** |\n| 24 | landing_page | C | J | 0 |   80.971794 |    3.424280 |  158.519308 | 3.24e-02 | *    |\n| 25 | landing_page | D | E | 0 | -151.638948 | -210.556812 |  -92.721084 | 1.69e-12 | **** |\n| 26 | landing_page | D | F | 0 | -244.779414 | -352.548300 | -137.010528 | 4.36e-11 | **** |\n| 27 | landing_page | D | G | 0 | -132.608257 | -205.729777 |  -59.486738 | 4.86e-07 | **** |\n| 28 | landing_page | D | H | 0 | -181.534415 | -260.278132 | -102.790697 | 2.10e-11 | **** |\n| 29 | landing_page | D | I | 0 |  -89.841720 | -159.671904 |  -20.011536 | 1.95e-03 | **   |\n| 30 | landing_page | D | J | 0 | -241.075636 | -313.935132 | -168.216140 | 1.63e-12 | **** |\n| 31 | landing_page | E | F | 0 |  -93.140466 | -193.975736 |    7.694804 | 9.92e-02 | ns   |\n| 32 | landing_page | E | G | 0 |   19.030691 |  -43.422295 |   81.483676 | 9.94e-01 | ns   |\n| 33 | landing_page | E | H | 0 |  -29.895467 |  -98.846115 |   39.055181 | 9.35e-01 | ns   |\n| 34 | landing_page | E | I | 0 |   61.797228 |    3.232107 |  120.362350 | 2.90e-02 | *    |\n| 35 | landing_page | E | J | 0 |  -89.436688 | -151.582686 |  -27.290691 | 2.36e-04 | ***  |\n| 36 | landing_page | F | G | 0 |  112.171157 |    2.429672 |  221.912642 | 4.04e-02 | *    |\n| 37 | landing_page | F | H | 0 |   63.244999 |  -50.320004 |  176.810002 | 7.58e-01 | ns   |\n| 38 | landing_page | F | I | 0 |  154.937694 |   47.361249 |  262.514139 | 2.32e-04 | ***  |\n| 39 | landing_page | F | J | 0 |    3.703778 | -105.863293 |  113.270849 | 1.00e+00 | ns   |\n| 40 | landing_page | G | H | 0 |  -48.926158 | -130.348721 |   32.496405 | 6.67e-01 | ns   |\n| 41 | landing_page | G | I | 0 |   42.766538 |  -30.071058 |  115.604133 | 6.96e-01 | ns   |\n| 42 | landing_page | G | J | 0 | -108.467379 | -184.214107 |  -32.720651 | 2.62e-04 | ***  |\n| 43 | landing_page | H | I | 0 |   91.692695 |   13.212559 |  170.172831 | 8.40e-03 | **   |\n| 44 | landing_page | H | J | 0 |  -59.541221 | -140.728556 |   21.646113 | 3.74e-01 | ns   |\n| 45 | landing_page | I | J | 0 | -151.233917 | -223.808464 |  -78.659370 | 2.45e-09 | **** |\n\n",
            "text/html": [
              "<table class=\"dataframe\">\n",
              "<caption>A rstatix_test: 45 × 9</caption>\n",
              "<thead>\n",
              "\t<tr><th></th><th scope=col>term</th><th scope=col>group1</th><th scope=col>group2</th><th scope=col>null.value</th><th scope=col>estimate</th><th scope=col>conf.low</th><th scope=col>conf.high</th><th scope=col>p.adj</th><th scope=col>p.adj.signif</th></tr>\n",
              "\t<tr><th></th><th scope=col>&lt;chr&gt;</th><th scope=col>&lt;chr&gt;</th><th scope=col>&lt;chr&gt;</th><th scope=col>&lt;dbl&gt;</th><th scope=col>&lt;dbl&gt;</th><th scope=col>&lt;dbl&gt;</th><th scope=col>&lt;dbl&gt;</th><th scope=col>&lt;dbl&gt;</th><th scope=col>&lt;chr&gt;</th></tr>\n",
              "</thead>\n",
              "<tbody>\n",
              "\t<tr><th scope=row>1</th><td>landing_page</td><td>A</td><td>B</td><td>0</td><td>-366.211985</td><td>-439.901326</td><td>-292.522644</td><td>1.54e-12</td><td>****</td></tr>\n",
              "\t<tr><th scope=row>2</th><td>landing_page</td><td>A</td><td>C</td><td>0</td><td>-406.148184</td><td>-482.655201</td><td>-329.641167</td><td>1.54e-12</td><td>****</td></tr>\n",
              "\t<tr><th scope=row>3</th><td>landing_page</td><td>A</td><td>D</td><td>0</td><td> -84.100754</td><td>-155.851801</td><td> -12.349706</td><td>8.03e-03</td><td>**  </td></tr>\n",
              "\t<tr><th scope=row>4</th><td>landing_page</td><td>A</td><td>E</td><td>0</td><td>-235.739701</td><td>-296.582382</td><td>-174.897021</td><td>1.54e-12</td><td>****</td></tr>\n",
              "\t<tr><th scope=row>5</th><td>landing_page</td><td>A</td><td>F</td><td>0</td><td>-328.880168</td><td>-437.713296</td><td>-220.047039</td><td>1.63e-12</td><td>****</td></tr>\n",
              "\t<tr><th scope=row>6</th><td>landing_page</td><td>A</td><td>G</td><td>0</td><td>-216.709011</td><td>-291.390157</td><td>-142.027865</td><td>1.65e-12</td><td>****</td></tr>\n",
              "\t<tr><th scope=row>7</th><td>landing_page</td><td>A</td><td>H</td><td>0</td><td>-265.635168</td><td>-345.829246</td><td>-185.441091</td><td>1.63e-12</td><td>****</td></tr>\n",
              "\t<tr><th scope=row>8</th><td>landing_page</td><td>A</td><td>I</td><td>0</td><td>-173.942473</td><td>-245.404153</td><td>-102.480794</td><td>2.56e-12</td><td>****</td></tr>\n",
              "\t<tr><th scope=row>9</th><td>landing_page</td><td>A</td><td>J</td><td>0</td><td>-325.176390</td><td>-399.601004</td><td>-250.751776</td><td>1.54e-12</td><td>****</td></tr>\n",
              "\t<tr><th scope=row>10</th><td>landing_page</td><td>B</td><td>C</td><td>0</td><td> -39.936199</td><td>-116.778328</td><td>  36.905930</td><td>8.25e-01</td><td>ns  </td></tr>\n",
              "\t<tr><th scope=row>11</th><td>landing_page</td><td>B</td><td>D</td><td>0</td><td> 282.111231</td><td> 210.002965</td><td> 354.219497</td><td>1.54e-12</td><td>****</td></tr>\n",
              "\t<tr><th scope=row>12</th><td>landing_page</td><td>B</td><td>E</td><td>0</td><td> 130.472283</td><td>  69.208747</td><td> 191.735820</td><td>9.34e-10</td><td>****</td></tr>\n",
              "\t<tr><th scope=row>13</th><td>landing_page</td><td>B</td><td>F</td><td>0</td><td>  37.331817</td><td> -71.737147</td><td> 146.400781</td><td>9.86e-01</td><td>ns  </td></tr>\n",
              "\t<tr><th scope=row>14</th><td>landing_page</td><td>B</td><td>G</td><td>0</td><td> 149.502974</td><td>  74.478560</td><td> 224.527388</td><td>1.57e-08</td><td>****</td></tr>\n",
              "\t<tr><th scope=row>15</th><td>landing_page</td><td>B</td><td>H</td><td>0</td><td> 100.576816</td><td>  20.062972</td><td> 181.090661</td><td>3.15e-03</td><td>**  </td></tr>\n",
              "\t<tr><th scope=row>16</th><td>landing_page</td><td>B</td><td>I</td><td>0</td><td> 192.269512</td><td> 120.449175</td><td> 264.089848</td><td>1.64e-12</td><td>****</td></tr>\n",
              "\t<tr><th scope=row>17</th><td>landing_page</td><td>B</td><td>J</td><td>0</td><td>  41.035595</td><td> -33.733465</td><td> 115.804655</td><td>7.73e-01</td><td>ns  </td></tr>\n",
              "\t<tr><th scope=row>18</th><td>landing_page</td><td>C</td><td>D</td><td>0</td><td> 322.047430</td><td> 247.062054</td><td> 397.032807</td><td>1.54e-12</td><td>****</td></tr>\n",
              "\t<tr><th scope=row>19</th><td>landing_page</td><td>C</td><td>E</td><td>0</td><td> 170.408482</td><td> 105.783212</td><td> 235.033752</td><td>1.65e-12</td><td>****</td></tr>\n",
              "\t<tr><th scope=row>20</th><td>landing_page</td><td>C</td><td>F</td><td>0</td><td>  77.268016</td><td> -33.724072</td><td> 188.260104</td><td>4.53e-01</td><td>ns  </td></tr>\n",
              "\t<tr><th scope=row>21</th><td>landing_page</td><td>C</td><td>G</td><td>0</td><td> 189.439173</td><td> 111.645424</td><td> 267.232922</td><td>2.54e-12</td><td>****</td></tr>\n",
              "\t<tr><th scope=row>22</th><td>landing_page</td><td>C</td><td>H</td><td>0</td><td> 140.513015</td><td>  57.412571</td><td> 223.613460</td><td>4.29e-06</td><td>****</td></tr>\n",
              "\t<tr><th scope=row>23</th><td>landing_page</td><td>C</td><td>I</td><td>0</td><td> 232.205711</td><td> 157.497174</td><td> 306.914247</td><td>1.64e-12</td><td>****</td></tr>\n",
              "\t<tr><th scope=row>24</th><td>landing_page</td><td>C</td><td>J</td><td>0</td><td>  80.971794</td><td>   3.424280</td><td> 158.519308</td><td>3.24e-02</td><td>*   </td></tr>\n",
              "\t<tr><th scope=row>25</th><td>landing_page</td><td>D</td><td>E</td><td>0</td><td>-151.638948</td><td>-210.556812</td><td> -92.721084</td><td>1.69e-12</td><td>****</td></tr>\n",
              "\t<tr><th scope=row>26</th><td>landing_page</td><td>D</td><td>F</td><td>0</td><td>-244.779414</td><td>-352.548300</td><td>-137.010528</td><td>4.36e-11</td><td>****</td></tr>\n",
              "\t<tr><th scope=row>27</th><td>landing_page</td><td>D</td><td>G</td><td>0</td><td>-132.608257</td><td>-205.729777</td><td> -59.486738</td><td>4.86e-07</td><td>****</td></tr>\n",
              "\t<tr><th scope=row>28</th><td>landing_page</td><td>D</td><td>H</td><td>0</td><td>-181.534415</td><td>-260.278132</td><td>-102.790697</td><td>2.10e-11</td><td>****</td></tr>\n",
              "\t<tr><th scope=row>29</th><td>landing_page</td><td>D</td><td>I</td><td>0</td><td> -89.841720</td><td>-159.671904</td><td> -20.011536</td><td>1.95e-03</td><td>**  </td></tr>\n",
              "\t<tr><th scope=row>30</th><td>landing_page</td><td>D</td><td>J</td><td>0</td><td>-241.075636</td><td>-313.935132</td><td>-168.216140</td><td>1.63e-12</td><td>****</td></tr>\n",
              "\t<tr><th scope=row>31</th><td>landing_page</td><td>E</td><td>F</td><td>0</td><td> -93.140466</td><td>-193.975736</td><td>   7.694804</td><td>9.92e-02</td><td>ns  </td></tr>\n",
              "\t<tr><th scope=row>32</th><td>landing_page</td><td>E</td><td>G</td><td>0</td><td>  19.030691</td><td> -43.422295</td><td>  81.483676</td><td>9.94e-01</td><td>ns  </td></tr>\n",
              "\t<tr><th scope=row>33</th><td>landing_page</td><td>E</td><td>H</td><td>0</td><td> -29.895467</td><td> -98.846115</td><td>  39.055181</td><td>9.35e-01</td><td>ns  </td></tr>\n",
              "\t<tr><th scope=row>34</th><td>landing_page</td><td>E</td><td>I</td><td>0</td><td>  61.797228</td><td>   3.232107</td><td> 120.362350</td><td>2.90e-02</td><td>*   </td></tr>\n",
              "\t<tr><th scope=row>35</th><td>landing_page</td><td>E</td><td>J</td><td>0</td><td> -89.436688</td><td>-151.582686</td><td> -27.290691</td><td>2.36e-04</td><td>*** </td></tr>\n",
              "\t<tr><th scope=row>36</th><td>landing_page</td><td>F</td><td>G</td><td>0</td><td> 112.171157</td><td>   2.429672</td><td> 221.912642</td><td>4.04e-02</td><td>*   </td></tr>\n",
              "\t<tr><th scope=row>37</th><td>landing_page</td><td>F</td><td>H</td><td>0</td><td>  63.244999</td><td> -50.320004</td><td> 176.810002</td><td>7.58e-01</td><td>ns  </td></tr>\n",
              "\t<tr><th scope=row>38</th><td>landing_page</td><td>F</td><td>I</td><td>0</td><td> 154.937694</td><td>  47.361249</td><td> 262.514139</td><td>2.32e-04</td><td>*** </td></tr>\n",
              "\t<tr><th scope=row>39</th><td>landing_page</td><td>F</td><td>J</td><td>0</td><td>   3.703778</td><td>-105.863293</td><td> 113.270849</td><td>1.00e+00</td><td>ns  </td></tr>\n",
              "\t<tr><th scope=row>40</th><td>landing_page</td><td>G</td><td>H</td><td>0</td><td> -48.926158</td><td>-130.348721</td><td>  32.496405</td><td>6.67e-01</td><td>ns  </td></tr>\n",
              "\t<tr><th scope=row>41</th><td>landing_page</td><td>G</td><td>I</td><td>0</td><td>  42.766538</td><td> -30.071058</td><td> 115.604133</td><td>6.96e-01</td><td>ns  </td></tr>\n",
              "\t<tr><th scope=row>42</th><td>landing_page</td><td>G</td><td>J</td><td>0</td><td>-108.467379</td><td>-184.214107</td><td> -32.720651</td><td>2.62e-04</td><td>*** </td></tr>\n",
              "\t<tr><th scope=row>43</th><td>landing_page</td><td>H</td><td>I</td><td>0</td><td>  91.692695</td><td>  13.212559</td><td> 170.172831</td><td>8.40e-03</td><td>**  </td></tr>\n",
              "\t<tr><th scope=row>44</th><td>landing_page</td><td>H</td><td>J</td><td>0</td><td> -59.541221</td><td>-140.728556</td><td>  21.646113</td><td>3.74e-01</td><td>ns  </td></tr>\n",
              "\t<tr><th scope=row>45</th><td>landing_page</td><td>I</td><td>J</td><td>0</td><td>-151.233917</td><td>-223.808464</td><td> -78.659370</td><td>2.45e-09</td><td>****</td></tr>\n",
              "</tbody>\n",
              "</table>\n"
            ]
          },
          "metadata": {}
        }
      ]
    },
    {
      "cell_type": "code",
      "source": [
        "table(US_Canada_data$subscription_status)"
      ],
      "metadata": {
        "colab": {
          "base_uri": "https://localhost:8080/",
          "height": 69
        },
        "id": "L8PIxPsxtHfM",
        "outputId": "06701254-d931-4132-c08a-0c80211d664e"
      },
      "execution_count": null,
      "outputs": [
        {
          "output_type": "display_data",
          "data": {
            "text/plain": [
              "\n",
              "FALSE  TRUE \n",
              " 1343  1693 "
            ]
          },
          "metadata": {}
        }
      ]
    },
    {
      "cell_type": "code",
      "source": [
        " US_Canada_data  %>% select(day, subscription_status) %>%\n",
        "  group_by(wday(day)) %>%\n",
        "  summarize(conversion_rate = mean(subscription_status))"
      ],
      "metadata": {
        "colab": {
          "base_uri": "https://localhost:8080/",
          "height": 318
        },
        "id": "6lJpFg9Li0Q2",
        "outputId": "31ef4213-1635-427a-ab00-445cd368a6c0"
      },
      "execution_count": null,
      "outputs": [
        {
          "output_type": "display_data",
          "data": {
            "text/plain": [
              "  wday(day) conversion_rate\n",
              "1 1         0.4666667      \n",
              "2 2         0.5056604      \n",
              "3 3         0.5869565      \n",
              "4 4         0.6043738      \n",
              "5 5         0.5798479      \n",
              "6 6         0.5543478      \n",
              "7 7         0.5534591      "
            ],
            "text/latex": "A tibble: 7 × 2\n\\begin{tabular}{ll}\n wday(day) & conversion\\_rate\\\\\n <dbl> & <dbl>\\\\\n\\hline\n\t 1 & 0.4666667\\\\\n\t 2 & 0.5056604\\\\\n\t 3 & 0.5869565\\\\\n\t 4 & 0.6043738\\\\\n\t 5 & 0.5798479\\\\\n\t 6 & 0.5543478\\\\\n\t 7 & 0.5534591\\\\\n\\end{tabular}\n",
            "text/markdown": "\nA tibble: 7 × 2\n\n| wday(day) &lt;dbl&gt; | conversion_rate &lt;dbl&gt; |\n|---|---|\n| 1 | 0.4666667 |\n| 2 | 0.5056604 |\n| 3 | 0.5869565 |\n| 4 | 0.6043738 |\n| 5 | 0.5798479 |\n| 6 | 0.5543478 |\n| 7 | 0.5534591 |\n\n",
            "text/html": [
              "<table class=\"dataframe\">\n",
              "<caption>A tibble: 7 × 2</caption>\n",
              "<thead>\n",
              "\t<tr><th scope=col>wday(day)</th><th scope=col>conversion_rate</th></tr>\n",
              "\t<tr><th scope=col>&lt;dbl&gt;</th><th scope=col>&lt;dbl&gt;</th></tr>\n",
              "</thead>\n",
              "<tbody>\n",
              "\t<tr><td>1</td><td>0.4666667</td></tr>\n",
              "\t<tr><td>2</td><td>0.5056604</td></tr>\n",
              "\t<tr><td>3</td><td>0.5869565</td></tr>\n",
              "\t<tr><td>4</td><td>0.6043738</td></tr>\n",
              "\t<tr><td>5</td><td>0.5798479</td></tr>\n",
              "\t<tr><td>6</td><td>0.5543478</td></tr>\n",
              "\t<tr><td>7</td><td>0.5534591</td></tr>\n",
              "</tbody>\n",
              "</table>\n"
            ]
          },
          "metadata": {}
        }
      ]
    },
    {
      "cell_type": "code",
      "source": [
        " US_Canada_data  %>% select(day, subscription_status) %>%\n",
        "  group_by(mday(day)) %>%\n",
        "  summarize(conversion_rate = mean(subscription_status)) %>% arrange(desc(conversion_rate)) %>% top_n(10)"
      ],
      "metadata": {
        "colab": {
          "base_uri": "https://localhost:8080/",
          "height": 446
        },
        "id": "o1a67B86upZm",
        "outputId": "13dc3ac4-53f1-4e7a-fd51-b59ebe30d8e5"
      },
      "execution_count": null,
      "outputs": [
        {
          "output_type": "stream",
          "name": "stderr",
          "text": [
            "Selecting by conversion_rate\n",
            "\n"
          ]
        },
        {
          "output_type": "display_data",
          "data": {
            "text/plain": [
              "   mday(day) conversion_rate\n",
              "1  24        0.6666667      \n",
              "2   3        0.6236559      \n",
              "3   5        0.6176471      \n",
              "4  15        0.6000000      \n",
              "5  20        0.5943396      \n",
              "6  18        0.5930233      \n",
              "7   8        0.5909091      \n",
              "8  22        0.5904762      \n",
              "9   7        0.5876289      \n",
              "10  6        0.5833333      "
            ],
            "text/latex": "A tibble: 10 × 2\n\\begin{tabular}{ll}\n mday(day) & conversion\\_rate\\\\\n <int> & <dbl>\\\\\n\\hline\n\t 24 & 0.6666667\\\\\n\t  3 & 0.6236559\\\\\n\t  5 & 0.6176471\\\\\n\t 15 & 0.6000000\\\\\n\t 20 & 0.5943396\\\\\n\t 18 & 0.5930233\\\\\n\t  8 & 0.5909091\\\\\n\t 22 & 0.5904762\\\\\n\t  7 & 0.5876289\\\\\n\t  6 & 0.5833333\\\\\n\\end{tabular}\n",
            "text/markdown": "\nA tibble: 10 × 2\n\n| mday(day) &lt;int&gt; | conversion_rate &lt;dbl&gt; |\n|---|---|\n| 24 | 0.6666667 |\n|  3 | 0.6236559 |\n|  5 | 0.6176471 |\n| 15 | 0.6000000 |\n| 20 | 0.5943396 |\n| 18 | 0.5930233 |\n|  8 | 0.5909091 |\n| 22 | 0.5904762 |\n|  7 | 0.5876289 |\n|  6 | 0.5833333 |\n\n",
            "text/html": [
              "<table class=\"dataframe\">\n",
              "<caption>A tibble: 10 × 2</caption>\n",
              "<thead>\n",
              "\t<tr><th scope=col>mday(day)</th><th scope=col>conversion_rate</th></tr>\n",
              "\t<tr><th scope=col>&lt;int&gt;</th><th scope=col>&lt;dbl&gt;</th></tr>\n",
              "</thead>\n",
              "<tbody>\n",
              "\t<tr><td>24</td><td>0.6666667</td></tr>\n",
              "\t<tr><td> 3</td><td>0.6236559</td></tr>\n",
              "\t<tr><td> 5</td><td>0.6176471</td></tr>\n",
              "\t<tr><td>15</td><td>0.6000000</td></tr>\n",
              "\t<tr><td>20</td><td>0.5943396</td></tr>\n",
              "\t<tr><td>18</td><td>0.5930233</td></tr>\n",
              "\t<tr><td> 8</td><td>0.5909091</td></tr>\n",
              "\t<tr><td>22</td><td>0.5904762</td></tr>\n",
              "\t<tr><td> 7</td><td>0.5876289</td></tr>\n",
              "\t<tr><td> 6</td><td>0.5833333</td></tr>\n",
              "</tbody>\n",
              "</table>\n"
            ]
          },
          "metadata": {}
        }
      ]
    },
    {
      "cell_type": "code",
      "source": [
        " US_Canada_data  %>% select(channel, subscription_status) %>%\n",
        "  group_by(channel) %>%\n",
        "  summarize(conversion_rate = mean(subscription_status)) %>% arrange(desc(conversion_rate)) %>% top_n(10)"
      ],
      "metadata": {
        "id": "ImB1NhVFxRj0",
        "colab": {
          "base_uri": "https://localhost:8080/",
          "height": 352
        },
        "outputId": "585013e7-9190-4e79-a2d2-02ab110c35ab"
      },
      "execution_count": null,
      "outputs": [
        {
          "output_type": "stream",
          "name": "stderr",
          "text": [
            "Selecting by conversion_rate\n",
            "\n"
          ]
        },
        {
          "output_type": "display_data",
          "data": {
            "text/plain": [
              "  channel          conversion_rate\n",
              "1 social           1.0000000      \n",
              "2 partner referral 0.6523929      \n",
              "3 display          0.6324786      \n",
              "4 video            0.6194030      \n",
              "5 paid search      0.5368803      \n",
              "6 organic search   0.5253648      \n",
              "7 email            0.3333333      "
            ],
            "text/latex": "A tibble: 7 × 2\n\\begin{tabular}{ll}\n channel & conversion\\_rate\\\\\n <chr> & <dbl>\\\\\n\\hline\n\t social           & 1.0000000\\\\\n\t partner referral & 0.6523929\\\\\n\t display          & 0.6324786\\\\\n\t video            & 0.6194030\\\\\n\t paid search      & 0.5368803\\\\\n\t organic search   & 0.5253648\\\\\n\t email            & 0.3333333\\\\\n\\end{tabular}\n",
            "text/markdown": "\nA tibble: 7 × 2\n\n| channel &lt;chr&gt; | conversion_rate &lt;dbl&gt; |\n|---|---|\n| social           | 1.0000000 |\n| partner referral | 0.6523929 |\n| display          | 0.6324786 |\n| video            | 0.6194030 |\n| paid search      | 0.5368803 |\n| organic search   | 0.5253648 |\n| email            | 0.3333333 |\n\n",
            "text/html": [
              "<table class=\"dataframe\">\n",
              "<caption>A tibble: 7 × 2</caption>\n",
              "<thead>\n",
              "\t<tr><th scope=col>channel</th><th scope=col>conversion_rate</th></tr>\n",
              "\t<tr><th scope=col>&lt;chr&gt;</th><th scope=col>&lt;dbl&gt;</th></tr>\n",
              "</thead>\n",
              "<tbody>\n",
              "\t<tr><td>social          </td><td>1.0000000</td></tr>\n",
              "\t<tr><td>partner referral</td><td>0.6523929</td></tr>\n",
              "\t<tr><td>display         </td><td>0.6324786</td></tr>\n",
              "\t<tr><td>video           </td><td>0.6194030</td></tr>\n",
              "\t<tr><td>paid search     </td><td>0.5368803</td></tr>\n",
              "\t<tr><td>organic search  </td><td>0.5253648</td></tr>\n",
              "\t<tr><td>email           </td><td>0.3333333</td></tr>\n",
              "</tbody>\n",
              "</table>\n"
            ]
          },
          "metadata": {}
        }
      ]
    },
    {
      "cell_type": "code",
      "source": [
        " US_Canada_revenue_by_channels = US_Canada_data  %>% select(channel, revenue) %>%\n",
        "  group_by(channel) %>%\n",
        "  summarize(sum_revenue = sum(revenue, na.rm = TRUE), avg_revenue = mean(revenue, na.rm = TRUE) ) %>% arrange(desc(sum_revenue))\n",
        "\n",
        "US_Canada_revenue_by_channels\n",
        "US_Canada_revenue_by_channels %>% arrange(desc(avg_revenue))"
      ],
      "metadata": {
        "colab": {
          "base_uri": "https://localhost:8080/",
          "height": 618
        },
        "id": "EU1Y1fICHr8a",
        "outputId": "7682a5d2-b65d-4e5b-a04b-6913679877fe"
      },
      "execution_count": null,
      "outputs": [
        {
          "output_type": "display_data",
          "data": {
            "text/plain": [
              "  channel          sum_revenue avg_revenue\n",
              "1 organic search   702307.89    928.9787  \n",
              "2 paid search      369824.62    832.9383  \n",
              "3 partner referral 258680.73    998.7673  \n",
              "4 display          184596.93   1247.2766  \n",
              "5 video             65532.96    789.5537  \n",
              "6 social             1738.94    869.4700  \n",
              "7 email               578.22    578.2200  "
            ],
            "text/latex": "A tibble: 7 × 3\n\\begin{tabular}{lll}\n channel & sum\\_revenue & avg\\_revenue\\\\\n <chr> & <dbl> & <dbl>\\\\\n\\hline\n\t organic search   & 702307.89 &  928.9787\\\\\n\t paid search      & 369824.62 &  832.9383\\\\\n\t partner referral & 258680.73 &  998.7673\\\\\n\t display          & 184596.93 & 1247.2766\\\\\n\t video            &  65532.96 &  789.5537\\\\\n\t social           &   1738.94 &  869.4700\\\\\n\t email            &    578.22 &  578.2200\\\\\n\\end{tabular}\n",
            "text/markdown": "\nA tibble: 7 × 3\n\n| channel &lt;chr&gt; | sum_revenue &lt;dbl&gt; | avg_revenue &lt;dbl&gt; |\n|---|---|---|\n| organic search   | 702307.89 |  928.9787 |\n| paid search      | 369824.62 |  832.9383 |\n| partner referral | 258680.73 |  998.7673 |\n| display          | 184596.93 | 1247.2766 |\n| video            |  65532.96 |  789.5537 |\n| social           |   1738.94 |  869.4700 |\n| email            |    578.22 |  578.2200 |\n\n",
            "text/html": [
              "<table class=\"dataframe\">\n",
              "<caption>A tibble: 7 × 3</caption>\n",
              "<thead>\n",
              "\t<tr><th scope=col>channel</th><th scope=col>sum_revenue</th><th scope=col>avg_revenue</th></tr>\n",
              "\t<tr><th scope=col>&lt;chr&gt;</th><th scope=col>&lt;dbl&gt;</th><th scope=col>&lt;dbl&gt;</th></tr>\n",
              "</thead>\n",
              "<tbody>\n",
              "\t<tr><td>organic search  </td><td>702307.89</td><td> 928.9787</td></tr>\n",
              "\t<tr><td>paid search     </td><td>369824.62</td><td> 832.9383</td></tr>\n",
              "\t<tr><td>partner referral</td><td>258680.73</td><td> 998.7673</td></tr>\n",
              "\t<tr><td>display         </td><td>184596.93</td><td>1247.2766</td></tr>\n",
              "\t<tr><td>video           </td><td> 65532.96</td><td> 789.5537</td></tr>\n",
              "\t<tr><td>social          </td><td>  1738.94</td><td> 869.4700</td></tr>\n",
              "\t<tr><td>email           </td><td>   578.22</td><td> 578.2200</td></tr>\n",
              "</tbody>\n",
              "</table>\n"
            ]
          },
          "metadata": {}
        },
        {
          "output_type": "display_data",
          "data": {
            "text/plain": [
              "  channel          sum_revenue avg_revenue\n",
              "1 display          184596.93   1247.2766  \n",
              "2 partner referral 258680.73    998.7673  \n",
              "3 organic search   702307.89    928.9787  \n",
              "4 social             1738.94    869.4700  \n",
              "5 paid search      369824.62    832.9383  \n",
              "6 video             65532.96    789.5537  \n",
              "7 email               578.22    578.2200  "
            ],
            "text/latex": "A tibble: 7 × 3\n\\begin{tabular}{lll}\n channel & sum\\_revenue & avg\\_revenue\\\\\n <chr> & <dbl> & <dbl>\\\\\n\\hline\n\t display          & 184596.93 & 1247.2766\\\\\n\t partner referral & 258680.73 &  998.7673\\\\\n\t organic search   & 702307.89 &  928.9787\\\\\n\t social           &   1738.94 &  869.4700\\\\\n\t paid search      & 369824.62 &  832.9383\\\\\n\t video            &  65532.96 &  789.5537\\\\\n\t email            &    578.22 &  578.2200\\\\\n\\end{tabular}\n",
            "text/markdown": "\nA tibble: 7 × 3\n\n| channel &lt;chr&gt; | sum_revenue &lt;dbl&gt; | avg_revenue &lt;dbl&gt; |\n|---|---|---|\n| display          | 184596.93 | 1247.2766 |\n| partner referral | 258680.73 |  998.7673 |\n| organic search   | 702307.89 |  928.9787 |\n| social           |   1738.94 |  869.4700 |\n| paid search      | 369824.62 |  832.9383 |\n| video            |  65532.96 |  789.5537 |\n| email            |    578.22 |  578.2200 |\n\n",
            "text/html": [
              "<table class=\"dataframe\">\n",
              "<caption>A tibble: 7 × 3</caption>\n",
              "<thead>\n",
              "\t<tr><th scope=col>channel</th><th scope=col>sum_revenue</th><th scope=col>avg_revenue</th></tr>\n",
              "\t<tr><th scope=col>&lt;chr&gt;</th><th scope=col>&lt;dbl&gt;</th><th scope=col>&lt;dbl&gt;</th></tr>\n",
              "</thead>\n",
              "<tbody>\n",
              "\t<tr><td>display         </td><td>184596.93</td><td>1247.2766</td></tr>\n",
              "\t<tr><td>partner referral</td><td>258680.73</td><td> 998.7673</td></tr>\n",
              "\t<tr><td>organic search  </td><td>702307.89</td><td> 928.9787</td></tr>\n",
              "\t<tr><td>social          </td><td>  1738.94</td><td> 869.4700</td></tr>\n",
              "\t<tr><td>paid search     </td><td>369824.62</td><td> 832.9383</td></tr>\n",
              "\t<tr><td>video           </td><td> 65532.96</td><td> 789.5537</td></tr>\n",
              "\t<tr><td>email           </td><td>   578.22</td><td> 578.2200</td></tr>\n",
              "</tbody>\n",
              "</table>\n"
            ]
          },
          "metadata": {}
        }
      ]
    },
    {
      "cell_type": "code",
      "source": [
        "table(US_Canada_data$channel)"
      ],
      "metadata": {
        "colab": {
          "base_uri": "https://localhost:8080/",
          "height": 104
        },
        "id": "5YPICkn9G7BV",
        "outputId": "bcf7170f-7bbe-45c5-d9f5-80ba2a023411"
      },
      "execution_count": null,
      "outputs": [
        {
          "output_type": "display_data",
          "data": {
            "text/plain": [
              "\n",
              "         display            email   organic search      paid search \n",
              "             234                3             1439              827 \n",
              "partner referral           social            video \n",
              "             397                2              134 "
            ]
          },
          "metadata": {}
        }
      ]
    },
    {
      "cell_type": "code",
      "source": [
        "US_Canada_Anova =  aov(revenue ~ channel, US_Canada_data)\n",
        "anova_summary( US_Canada_Anova )\n",
        "US_Canada_Anova %>% tukey_hsd() %>% arrange(group2)"
      ],
      "metadata": {
        "colab": {
          "base_uri": "https://localhost:8080/",
          "height": 869
        },
        "id": "rqjsNRIEGUw2",
        "outputId": "04a5c36a-3694-4885-e636-a550ac9750d2"
      },
      "execution_count": null,
      "outputs": [
        {
          "output_type": "display_data",
          "data": {
            "text/plain": [
              "  Effect  DFn DFd  F      p        p<.05 ges  \n",
              "1 channel 6   1686 85.955 3.85e-94 *     0.234"
            ],
            "text/latex": "A anova: 1 × 7\n\\begin{tabular}{r|lllllll}\n  & Effect & DFn & DFd & F & p & p<.05 & ges\\\\\n  & <chr> & <dbl> & <dbl> & <dbl> & <dbl> & <chr> & <dbl>\\\\\n\\hline\n\t1 & channel & 6 & 1686 & 85.955 & 3.85e-94 & * & 0.234\\\\\n\\end{tabular}\n",
            "text/markdown": "\nA anova: 1 × 7\n\n| <!--/--> | Effect &lt;chr&gt; | DFn &lt;dbl&gt; | DFd &lt;dbl&gt; | F &lt;dbl&gt; | p &lt;dbl&gt; | p&lt;.05 &lt;chr&gt; | ges &lt;dbl&gt; |\n|---|---|---|---|---|---|---|---|\n| 1 | channel | 6 | 1686 | 85.955 | 3.85e-94 | * | 0.234 |\n\n",
            "text/html": [
              "<table class=\"dataframe\">\n",
              "<caption>A anova: 1 × 7</caption>\n",
              "<thead>\n",
              "\t<tr><th></th><th scope=col>Effect</th><th scope=col>DFn</th><th scope=col>DFd</th><th scope=col>F</th><th scope=col>p</th><th scope=col>p&lt;.05</th><th scope=col>ges</th></tr>\n",
              "\t<tr><th></th><th scope=col>&lt;chr&gt;</th><th scope=col>&lt;dbl&gt;</th><th scope=col>&lt;dbl&gt;</th><th scope=col>&lt;dbl&gt;</th><th scope=col>&lt;dbl&gt;</th><th scope=col>&lt;chr&gt;</th><th scope=col>&lt;dbl&gt;</th></tr>\n",
              "</thead>\n",
              "<tbody>\n",
              "\t<tr><th scope=row>1</th><td>channel</td><td>6</td><td>1686</td><td>85.955</td><td>3.85e-94</td><td>*</td><td>0.234</td></tr>\n",
              "</tbody>\n",
              "</table>\n"
            ]
          },
          "metadata": {}
        },
        {
          "output_type": "display_data",
          "data": {
            "text/plain": [
              "   term    group1           group2           null.value estimate   conf.low   \n",
              "1  channel display          email            0          -669.05655 -1281.20343\n",
              "2  channel display          organic search   0          -318.29786  -373.13640\n",
              "3  channel email            organic search   0           350.75869  -259.73391\n",
              "4  channel display          paid search      0          -414.33822  -472.24533\n",
              "5  channel email            paid search      0           254.71833  -356.05755\n",
              "6  channel organic search   paid search      0           -96.04036  -132.51841\n",
              "7  channel display          partner referral 0          -248.50926  -311.37439\n",
              "8  channel email            partner referral 0           420.54730  -190.71858\n",
              "9  channel organic search   partner referral 0            69.78861    25.86322\n",
              "10 channel paid search      partner referral 0           165.82896   118.12773\n",
              "11 channel display          social           0          -377.80655  -812.10986\n",
              "12 channel email            social           0           291.25000  -455.95366\n",
              "13 channel organic search   social           0           -59.50869  -491.47718\n",
              "14 channel paid search      social           0            36.53167  -395.83709\n",
              "15 channel partner referral social           0          -129.29730  -562.35796\n",
              "16 channel display          video            0          -457.72282  -541.38505\n",
              "17 channel email            video            0           211.33373  -402.41973\n",
              "18 channel organic search   video            0          -139.42496  -209.97128\n",
              "19 channel paid search      video            0           -43.38460  -116.34180\n",
              "20 channel partner referral video            0          -209.21356  -286.16513\n",
              "21 channel social           video            0           -79.91627  -516.48113\n",
              "   conf.high  p.adj    p.adj.signif\n",
              "1   -56.90968 2.17e-02 *           \n",
              "2  -263.45933 2.91e-12 ****        \n",
              "3   961.25129 6.19e-01 ns          \n",
              "4  -356.43111 2.91e-12 ****        \n",
              "5   865.49422 8.82e-01 ns          \n",
              "6   -59.56231 3.26e-12 ****        \n",
              "7  -185.64413 2.91e-12 ****        \n",
              "8  1031.81318 3.95e-01 ns          \n",
              "9   113.71399 6.05e-05 ****        \n",
              "10  213.53020 2.98e-12 ****        \n",
              "11   56.49675 1.37e-01 ns          \n",
              "12 1038.45366 9.12e-01 ns          \n",
              "13  372.45980 1.00e+00 ns          \n",
              "14  468.90043 1.00e+00 ns          \n",
              "15  303.76337 9.75e-01 ns          \n",
              "16 -374.06059 2.91e-12 ****        \n",
              "17  825.08720 9.50e-01 ns          \n",
              "18  -68.87863 1.36e-07 ****        \n",
              "19   29.57260 5.79e-01 ns          \n",
              "20 -132.26199 3.04e-12 ****        \n",
              "21  356.64860 9.98e-01 ns          "
            ],
            "text/latex": "A rstatix\\_test: 21 × 9\n\\begin{tabular}{lllllllll}\n term & group1 & group2 & null.value & estimate & conf.low & conf.high & p.adj & p.adj.signif\\\\\n <chr> & <chr> & <chr> & <dbl> & <dbl> & <dbl> & <dbl> & <dbl> & <chr>\\\\\n\\hline\n\t channel & display          & email            & 0 & -669.05655 & -1281.20343 &  -56.90968 & 2.17e-02 & *   \\\\\n\t channel & display          & organic search   & 0 & -318.29786 &  -373.13640 & -263.45933 & 2.91e-12 & ****\\\\\n\t channel & email            & organic search   & 0 &  350.75869 &  -259.73391 &  961.25129 & 6.19e-01 & ns  \\\\\n\t channel & display          & paid search      & 0 & -414.33822 &  -472.24533 & -356.43111 & 2.91e-12 & ****\\\\\n\t channel & email            & paid search      & 0 &  254.71833 &  -356.05755 &  865.49422 & 8.82e-01 & ns  \\\\\n\t channel & organic search   & paid search      & 0 &  -96.04036 &  -132.51841 &  -59.56231 & 3.26e-12 & ****\\\\\n\t channel & display          & partner referral & 0 & -248.50926 &  -311.37439 & -185.64413 & 2.91e-12 & ****\\\\\n\t channel & email            & partner referral & 0 &  420.54730 &  -190.71858 & 1031.81318 & 3.95e-01 & ns  \\\\\n\t channel & organic search   & partner referral & 0 &   69.78861 &    25.86322 &  113.71399 & 6.05e-05 & ****\\\\\n\t channel & paid search      & partner referral & 0 &  165.82896 &   118.12773 &  213.53020 & 2.98e-12 & ****\\\\\n\t channel & display          & social           & 0 & -377.80655 &  -812.10986 &   56.49675 & 1.37e-01 & ns  \\\\\n\t channel & email            & social           & 0 &  291.25000 &  -455.95366 & 1038.45366 & 9.12e-01 & ns  \\\\\n\t channel & organic search   & social           & 0 &  -59.50869 &  -491.47718 &  372.45980 & 1.00e+00 & ns  \\\\\n\t channel & paid search      & social           & 0 &   36.53167 &  -395.83709 &  468.90043 & 1.00e+00 & ns  \\\\\n\t channel & partner referral & social           & 0 & -129.29730 &  -562.35796 &  303.76337 & 9.75e-01 & ns  \\\\\n\t channel & display          & video            & 0 & -457.72282 &  -541.38505 & -374.06059 & 2.91e-12 & ****\\\\\n\t channel & email            & video            & 0 &  211.33373 &  -402.41973 &  825.08720 & 9.50e-01 & ns  \\\\\n\t channel & organic search   & video            & 0 & -139.42496 &  -209.97128 &  -68.87863 & 1.36e-07 & ****\\\\\n\t channel & paid search      & video            & 0 &  -43.38460 &  -116.34180 &   29.57260 & 5.79e-01 & ns  \\\\\n\t channel & partner referral & video            & 0 & -209.21356 &  -286.16513 & -132.26199 & 3.04e-12 & ****\\\\\n\t channel & social           & video            & 0 &  -79.91627 &  -516.48113 &  356.64860 & 9.98e-01 & ns  \\\\\n\\end{tabular}\n",
            "text/markdown": "\nA rstatix_test: 21 × 9\n\n| term &lt;chr&gt; | group1 &lt;chr&gt; | group2 &lt;chr&gt; | null.value &lt;dbl&gt; | estimate &lt;dbl&gt; | conf.low &lt;dbl&gt; | conf.high &lt;dbl&gt; | p.adj &lt;dbl&gt; | p.adj.signif &lt;chr&gt; |\n|---|---|---|---|---|---|---|---|---|\n| channel | display          | email            | 0 | -669.05655 | -1281.20343 |  -56.90968 | 2.17e-02 | *    |\n| channel | display          | organic search   | 0 | -318.29786 |  -373.13640 | -263.45933 | 2.91e-12 | **** |\n| channel | email            | organic search   | 0 |  350.75869 |  -259.73391 |  961.25129 | 6.19e-01 | ns   |\n| channel | display          | paid search      | 0 | -414.33822 |  -472.24533 | -356.43111 | 2.91e-12 | **** |\n| channel | email            | paid search      | 0 |  254.71833 |  -356.05755 |  865.49422 | 8.82e-01 | ns   |\n| channel | organic search   | paid search      | 0 |  -96.04036 |  -132.51841 |  -59.56231 | 3.26e-12 | **** |\n| channel | display          | partner referral | 0 | -248.50926 |  -311.37439 | -185.64413 | 2.91e-12 | **** |\n| channel | email            | partner referral | 0 |  420.54730 |  -190.71858 | 1031.81318 | 3.95e-01 | ns   |\n| channel | organic search   | partner referral | 0 |   69.78861 |    25.86322 |  113.71399 | 6.05e-05 | **** |\n| channel | paid search      | partner referral | 0 |  165.82896 |   118.12773 |  213.53020 | 2.98e-12 | **** |\n| channel | display          | social           | 0 | -377.80655 |  -812.10986 |   56.49675 | 1.37e-01 | ns   |\n| channel | email            | social           | 0 |  291.25000 |  -455.95366 | 1038.45366 | 9.12e-01 | ns   |\n| channel | organic search   | social           | 0 |  -59.50869 |  -491.47718 |  372.45980 | 1.00e+00 | ns   |\n| channel | paid search      | social           | 0 |   36.53167 |  -395.83709 |  468.90043 | 1.00e+00 | ns   |\n| channel | partner referral | social           | 0 | -129.29730 |  -562.35796 |  303.76337 | 9.75e-01 | ns   |\n| channel | display          | video            | 0 | -457.72282 |  -541.38505 | -374.06059 | 2.91e-12 | **** |\n| channel | email            | video            | 0 |  211.33373 |  -402.41973 |  825.08720 | 9.50e-01 | ns   |\n| channel | organic search   | video            | 0 | -139.42496 |  -209.97128 |  -68.87863 | 1.36e-07 | **** |\n| channel | paid search      | video            | 0 |  -43.38460 |  -116.34180 |   29.57260 | 5.79e-01 | ns   |\n| channel | partner referral | video            | 0 | -209.21356 |  -286.16513 | -132.26199 | 3.04e-12 | **** |\n| channel | social           | video            | 0 |  -79.91627 |  -516.48113 |  356.64860 | 9.98e-01 | ns   |\n\n",
            "text/html": [
              "<table class=\"dataframe\">\n",
              "<caption>A rstatix_test: 21 × 9</caption>\n",
              "<thead>\n",
              "\t<tr><th scope=col>term</th><th scope=col>group1</th><th scope=col>group2</th><th scope=col>null.value</th><th scope=col>estimate</th><th scope=col>conf.low</th><th scope=col>conf.high</th><th scope=col>p.adj</th><th scope=col>p.adj.signif</th></tr>\n",
              "\t<tr><th scope=col>&lt;chr&gt;</th><th scope=col>&lt;chr&gt;</th><th scope=col>&lt;chr&gt;</th><th scope=col>&lt;dbl&gt;</th><th scope=col>&lt;dbl&gt;</th><th scope=col>&lt;dbl&gt;</th><th scope=col>&lt;dbl&gt;</th><th scope=col>&lt;dbl&gt;</th><th scope=col>&lt;chr&gt;</th></tr>\n",
              "</thead>\n",
              "<tbody>\n",
              "\t<tr><td>channel</td><td>display         </td><td>email           </td><td>0</td><td>-669.05655</td><td>-1281.20343</td><td> -56.90968</td><td>2.17e-02</td><td>*   </td></tr>\n",
              "\t<tr><td>channel</td><td>display         </td><td>organic search  </td><td>0</td><td>-318.29786</td><td> -373.13640</td><td>-263.45933</td><td>2.91e-12</td><td>****</td></tr>\n",
              "\t<tr><td>channel</td><td>email           </td><td>organic search  </td><td>0</td><td> 350.75869</td><td> -259.73391</td><td> 961.25129</td><td>6.19e-01</td><td>ns  </td></tr>\n",
              "\t<tr><td>channel</td><td>display         </td><td>paid search     </td><td>0</td><td>-414.33822</td><td> -472.24533</td><td>-356.43111</td><td>2.91e-12</td><td>****</td></tr>\n",
              "\t<tr><td>channel</td><td>email           </td><td>paid search     </td><td>0</td><td> 254.71833</td><td> -356.05755</td><td> 865.49422</td><td>8.82e-01</td><td>ns  </td></tr>\n",
              "\t<tr><td>channel</td><td>organic search  </td><td>paid search     </td><td>0</td><td> -96.04036</td><td> -132.51841</td><td> -59.56231</td><td>3.26e-12</td><td>****</td></tr>\n",
              "\t<tr><td>channel</td><td>display         </td><td>partner referral</td><td>0</td><td>-248.50926</td><td> -311.37439</td><td>-185.64413</td><td>2.91e-12</td><td>****</td></tr>\n",
              "\t<tr><td>channel</td><td>email           </td><td>partner referral</td><td>0</td><td> 420.54730</td><td> -190.71858</td><td>1031.81318</td><td>3.95e-01</td><td>ns  </td></tr>\n",
              "\t<tr><td>channel</td><td>organic search  </td><td>partner referral</td><td>0</td><td>  69.78861</td><td>   25.86322</td><td> 113.71399</td><td>6.05e-05</td><td>****</td></tr>\n",
              "\t<tr><td>channel</td><td>paid search     </td><td>partner referral</td><td>0</td><td> 165.82896</td><td>  118.12773</td><td> 213.53020</td><td>2.98e-12</td><td>****</td></tr>\n",
              "\t<tr><td>channel</td><td>display         </td><td>social          </td><td>0</td><td>-377.80655</td><td> -812.10986</td><td>  56.49675</td><td>1.37e-01</td><td>ns  </td></tr>\n",
              "\t<tr><td>channel</td><td>email           </td><td>social          </td><td>0</td><td> 291.25000</td><td> -455.95366</td><td>1038.45366</td><td>9.12e-01</td><td>ns  </td></tr>\n",
              "\t<tr><td>channel</td><td>organic search  </td><td>social          </td><td>0</td><td> -59.50869</td><td> -491.47718</td><td> 372.45980</td><td>1.00e+00</td><td>ns  </td></tr>\n",
              "\t<tr><td>channel</td><td>paid search     </td><td>social          </td><td>0</td><td>  36.53167</td><td> -395.83709</td><td> 468.90043</td><td>1.00e+00</td><td>ns  </td></tr>\n",
              "\t<tr><td>channel</td><td>partner referral</td><td>social          </td><td>0</td><td>-129.29730</td><td> -562.35796</td><td> 303.76337</td><td>9.75e-01</td><td>ns  </td></tr>\n",
              "\t<tr><td>channel</td><td>display         </td><td>video           </td><td>0</td><td>-457.72282</td><td> -541.38505</td><td>-374.06059</td><td>2.91e-12</td><td>****</td></tr>\n",
              "\t<tr><td>channel</td><td>email           </td><td>video           </td><td>0</td><td> 211.33373</td><td> -402.41973</td><td> 825.08720</td><td>9.50e-01</td><td>ns  </td></tr>\n",
              "\t<tr><td>channel</td><td>organic search  </td><td>video           </td><td>0</td><td>-139.42496</td><td> -209.97128</td><td> -68.87863</td><td>1.36e-07</td><td>****</td></tr>\n",
              "\t<tr><td>channel</td><td>paid search     </td><td>video           </td><td>0</td><td> -43.38460</td><td> -116.34180</td><td>  29.57260</td><td>5.79e-01</td><td>ns  </td></tr>\n",
              "\t<tr><td>channel</td><td>partner referral</td><td>video           </td><td>0</td><td>-209.21356</td><td> -286.16513</td><td>-132.26199</td><td>3.04e-12</td><td>****</td></tr>\n",
              "\t<tr><td>channel</td><td>social          </td><td>video           </td><td>0</td><td> -79.91627</td><td> -516.48113</td><td> 356.64860</td><td>9.98e-01</td><td>ns  </td></tr>\n",
              "</tbody>\n",
              "</table>\n"
            ]
          },
          "metadata": {}
        }
      ]
    }
  ]
}